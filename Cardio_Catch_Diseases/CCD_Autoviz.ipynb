{
  "nbformat": 4,
  "nbformat_minor": 0,
  "metadata": {
    "colab": {
      "name": "CCD_Autoviz.ipynb",
      "provenance": [],
      "collapsed_sections": [],
      "authorship_tag": "ABX9TyPMrRKP8RTcNIGvlIBafnzr",
      "include_colab_link": true
    },
    "kernelspec": {
      "name": "python3",
      "display_name": "Python 3"
    },
    "accelerator": "GPU"
  },
  "cells": [
    {
      "cell_type": "markdown",
      "metadata": {
        "id": "view-in-github",
        "colab_type": "text"
      },
      "source": [
        "<a href=\"https://colab.research.google.com/github/daniellecd/portfolio/blob/main/Cardio_Catch_Disease/CCD_Autoviz.ipynb\" target=\"_parent\"><img src=\"https://colab.research.google.com/assets/colab-badge.svg\" alt=\"Open In Colab\"/></a>"
      ]
    },
    {
      "cell_type": "code",
      "metadata": {
        "id": "CsgorQsUVvvf"
      },
      "source": [
        "!pip install autoviz"
      ],
      "execution_count": null,
      "outputs": []
    },
    {
      "cell_type": "code",
      "metadata": {
        "id": "OXm7hZRbTSua"
      },
      "source": [
        "from autoviz.AutoViz_Class import AutoViz_Class\n",
        "AV = AutoViz_Class()"
      ],
      "execution_count": null,
      "outputs": []
    },
    {
      "cell_type": "code",
      "metadata": {
        "id": "-KBIYqRrslpd"
      },
      "source": [
        "df =  AV.AutoViz('https://raw.githubusercontent.com/daniellecd/portfolio/master/Cardio_Catch_Diseases/data/cardio_train.csv', sep=';', depVar='cardio')"
      ],
      "execution_count": null,
      "outputs": []
    }
  ]
}
