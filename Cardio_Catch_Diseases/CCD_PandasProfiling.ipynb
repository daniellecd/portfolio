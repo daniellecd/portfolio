{
  "nbformat": 4,
  "nbformat_minor": 0,
  "metadata": {
    "colab": {
      "name": "CCD_PandasProfiling.ipynb",
      "provenance": [],
      "authorship_tag": "ABX9TyMqYECEjsMO2GroZjAfpLRB",
      "include_colab_link": true
    },
    "kernelspec": {
      "name": "python3",
      "display_name": "Python 3"
    }
  },
  "cells": [
    {
      "cell_type": "markdown",
      "metadata": {
        "id": "view-in-github",
        "colab_type": "text"
      },
      "source": [
        "<a href=\"https://colab.research.google.com/github/daniellecd/portfolio/blob/main/Cardio_Catch_Disease/CCD_PandasProfiling.ipynb\" target=\"_parent\"><img src=\"https://colab.research.google.com/assets/colab-badge.svg\" alt=\"Open In Colab\"/></a>"
      ]
    },
    {
      "cell_type": "code",
      "metadata": {
        "id": "pGPg9w0nCcM4"
      },
      "source": [
        "#Instação do pandas-profiling\n",
        "!pip install --pre -U pandas-profiling"
      ],
      "execution_count": null,
      "outputs": []
    },
    {
      "cell_type": "code",
      "metadata": {
        "id": "qChidT9oCnlf"
      },
      "source": [
        "#Importação das bibliotecas necessárias\n",
        "import numpy as np\n",
        "import pandas as pd\n",
        "from pandas_profiling import ProfileReport"
      ],
      "execution_count": null,
      "outputs": []
    },
    {
      "cell_type": "code",
      "metadata": {
        "id": "nZpgr4wPCkYw"
      },
      "source": [
        "#Inclusão do dataset\n",
        "df = pd.read_csv('https://raw.githubusercontent.com/daniellecd/portfolio/master/Cardio_Catch_Diseases/data/cardio_train.csv', sep = ';')"
      ],
      "execution_count": null,
      "outputs": []
    },
    {
      "cell_type": "code",
      "metadata": {
        "id": "od5_N9m5Ch8a"
      },
      "source": [
        "#Geração do relatório para ser visualizado no próprio ambiente Colab/Jupyter\n",
        "profile = ProfileReport(df, title='Diagnóstico Precoce de Doenças Cardiovasculares - CCD', explorative=True, progress_bar=False)\n",
        "profile.to_notebook_iframe()"
      ],
      "execution_count": null,
      "outputs": []
    },
    {
      "cell_type": "code",
      "metadata": {
        "id": "mLzbINlICeYH"
      },
      "source": [
        "#Exportação do relatório em html\n",
        "profile.to_file(output_file='CCD_pandasprofiling_report.html')"
      ],
      "execution_count": null,
      "outputs": []
    }
  ]
}
