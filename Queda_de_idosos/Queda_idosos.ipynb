{
  "nbformat": 4,
  "nbformat_minor": 0,
  "metadata": {
    "colab": {
      "name": "Queda_idosos.ipynb",
      "provenance": [],
      "collapsed_sections": [],
      "include_colab_link": true
    },
    "kernelspec": {
      "name": "python3",
      "display_name": "Python 3"
    }
  },
  "cells": [
    {
      "cell_type": "markdown",
      "metadata": {
        "id": "view-in-github",
        "colab_type": "text"
      },
      "source": [
        "<a href=\"https://colab.research.google.com/github/daniellecd/portfolio/blob/master/Queda_de_idosos/Queda_idosos.ipynb\" target=\"_parent\"><img src=\"https://colab.research.google.com/assets/colab-badge.svg\" alt=\"Open In Colab\"/></a>"
      ]
    },
    {
      "cell_type": "markdown",
      "metadata": {
        "id": "KTxswHG7I7gs"
      },
      "source": [
        "# **Previsão do quantitativo de quedas de idosos**\n",
        "\n",
        "\n"
      ]
    },
    {
      "cell_type": "markdown",
      "metadata": {
        "id": "ejUb5ErgIawY"
      },
      "source": [
        "## **Instalação dos pacotes necessários**"
      ]
    },
    {
      "cell_type": "code",
      "metadata": {
        "id": "1XTvBaQSidcN",
        "colab": {
          "base_uri": "https://localhost:8080/"
        },
        "outputId": "f7c4e3ae-e540-43a7-e894-6d2ba1707449"
      },
      "source": [
        "#Instalação dos pacotes necessárias\n",
        "!pip install pystan\n",
        "!pip install fbprophet"
      ],
      "execution_count": null,
      "outputs": [
        {
          "output_type": "stream",
          "text": [
            "Requirement already satisfied: pystan in /usr/local/lib/python3.6/dist-packages (2.19.1.1)\n",
            "Requirement already satisfied: Cython!=0.25.1,>=0.22 in /usr/local/lib/python3.6/dist-packages (from pystan) (0.29.21)\n",
            "Requirement already satisfied: numpy>=1.7 in /usr/local/lib/python3.6/dist-packages (from pystan) (1.18.5)\n",
            "Requirement already satisfied: fbprophet in /usr/local/lib/python3.6/dist-packages (0.7.1)\n",
            "Requirement already satisfied: Cython>=0.22 in /usr/local/lib/python3.6/dist-packages (from fbprophet) (0.29.21)\n",
            "Requirement already satisfied: cmdstanpy==0.9.5 in /usr/local/lib/python3.6/dist-packages (from fbprophet) (0.9.5)\n",
            "Requirement already satisfied: pystan>=2.14 in /usr/local/lib/python3.6/dist-packages (from fbprophet) (2.19.1.1)\n",
            "Requirement already satisfied: numpy>=1.15.4 in /usr/local/lib/python3.6/dist-packages (from fbprophet) (1.18.5)\n",
            "Requirement already satisfied: pandas>=1.0.4 in /usr/local/lib/python3.6/dist-packages (from fbprophet) (1.1.5)\n",
            "Requirement already satisfied: matplotlib>=2.0.0 in /usr/local/lib/python3.6/dist-packages (from fbprophet) (3.2.2)\n",
            "Requirement already satisfied: LunarCalendar>=0.0.9 in /usr/local/lib/python3.6/dist-packages (from fbprophet) (0.0.9)\n",
            "Requirement already satisfied: convertdate>=2.1.2 in /usr/local/lib/python3.6/dist-packages (from fbprophet) (2.2.0)\n",
            "Requirement already satisfied: holidays>=0.10.2 in /usr/local/lib/python3.6/dist-packages (from fbprophet) (0.10.4)\n",
            "Requirement already satisfied: setuptools-git>=1.2 in /usr/local/lib/python3.6/dist-packages (from fbprophet) (1.2)\n",
            "Requirement already satisfied: python-dateutil>=2.8.0 in /usr/local/lib/python3.6/dist-packages (from fbprophet) (2.8.1)\n",
            "Requirement already satisfied: tqdm>=4.36.1 in /usr/local/lib/python3.6/dist-packages (from fbprophet) (4.41.1)\n",
            "Requirement already satisfied: pytz>=2017.2 in /usr/local/lib/python3.6/dist-packages (from pandas>=1.0.4->fbprophet) (2018.9)\n",
            "Requirement already satisfied: cycler>=0.10 in /usr/local/lib/python3.6/dist-packages (from matplotlib>=2.0.0->fbprophet) (0.10.0)\n",
            "Requirement already satisfied: pyparsing!=2.0.4,!=2.1.2,!=2.1.6,>=2.0.1 in /usr/local/lib/python3.6/dist-packages (from matplotlib>=2.0.0->fbprophet) (2.4.7)\n",
            "Requirement already satisfied: kiwisolver>=1.0.1 in /usr/local/lib/python3.6/dist-packages (from matplotlib>=2.0.0->fbprophet) (1.3.1)\n",
            "Requirement already satisfied: ephem>=3.7.5.3 in /usr/local/lib/python3.6/dist-packages (from LunarCalendar>=0.0.9->fbprophet) (3.7.7.1)\n",
            "Requirement already satisfied: pymeeus<=1,>=0.3.6 in /usr/local/lib/python3.6/dist-packages (from convertdate>=2.1.2->fbprophet) (0.3.7)\n",
            "Requirement already satisfied: six in /usr/local/lib/python3.6/dist-packages (from holidays>=0.10.2->fbprophet) (1.15.0)\n",
            "Requirement already satisfied: korean-lunar-calendar in /usr/local/lib/python3.6/dist-packages (from holidays>=0.10.2->fbprophet) (0.2.1)\n"
          ],
          "name": "stdout"
        }
      ]
    },
    {
      "cell_type": "code",
      "metadata": {
        "id": "amSgIKZhirNT"
      },
      "source": [
        "# Importação das bibliotecas necessárias \n",
        "import pandas as pd\n",
        "import numpy as np\n",
        "\n",
        "import fbprophet\n",
        "from fbprophet import Prophet\n",
        "\n",
        "import matplotlib.pyplot as plt\n",
        "from matplotlib import rcParams\n",
        "%matplotlib inline \n",
        "\n",
        "import warnings\n",
        "warnings.filterwarnings(\"ignore\")"
      ],
      "execution_count": null,
      "outputs": []
    },
    {
      "cell_type": "markdown",
      "metadata": {
        "id": "f_ibXkvbJjwF"
      },
      "source": [
        "## **Importação dos dados**"
      ]
    },
    {
      "cell_type": "code",
      "metadata": {
        "id": "6nDo5EYYjLiA",
        "colab": {
          "base_uri": "https://localhost:8080/",
          "height": 197
        },
        "outputId": "cb910f3f-ecd7-4e88-fdcf-0976a725bb4d"
      },
      "source": [
        "#Leitura do dataset e cinco primeiras linhas\n",
        "df = pd.read_excel('/content/Quedas_Idosos_Prophet.xlsx')\n",
        "df.head()"
      ],
      "execution_count": null,
      "outputs": [
        {
          "output_type": "execute_result",
          "data": {
            "text/html": [
              "<div>\n",
              "<style scoped>\n",
              "    .dataframe tbody tr th:only-of-type {\n",
              "        vertical-align: middle;\n",
              "    }\n",
              "\n",
              "    .dataframe tbody tr th {\n",
              "        vertical-align: top;\n",
              "    }\n",
              "\n",
              "    .dataframe thead th {\n",
              "        text-align: right;\n",
              "    }\n",
              "</style>\n",
              "<table border=\"1\" class=\"dataframe\">\n",
              "  <thead>\n",
              "    <tr style=\"text-align: right;\">\n",
              "      <th></th>\n",
              "      <th>Data</th>\n",
              "      <th>Quedas</th>\n",
              "    </tr>\n",
              "  </thead>\n",
              "  <tbody>\n",
              "    <tr>\n",
              "      <th>0</th>\n",
              "      <td>2008-01-01</td>\n",
              "      <td>4745</td>\n",
              "    </tr>\n",
              "    <tr>\n",
              "      <th>1</th>\n",
              "      <td>2008-02-01</td>\n",
              "      <td>4266</td>\n",
              "    </tr>\n",
              "    <tr>\n",
              "      <th>2</th>\n",
              "      <td>2008-03-01</td>\n",
              "      <td>4794</td>\n",
              "    </tr>\n",
              "    <tr>\n",
              "      <th>3</th>\n",
              "      <td>2008-04-01</td>\n",
              "      <td>4752</td>\n",
              "    </tr>\n",
              "    <tr>\n",
              "      <th>4</th>\n",
              "      <td>2008-05-01</td>\n",
              "      <td>5233</td>\n",
              "    </tr>\n",
              "  </tbody>\n",
              "</table>\n",
              "</div>"
            ],
            "text/plain": [
              "        Data  Quedas\n",
              "0 2008-01-01    4745\n",
              "1 2008-02-01    4266\n",
              "2 2008-03-01    4794\n",
              "3 2008-04-01    4752\n",
              "4 2008-05-01    5233"
            ]
          },
          "metadata": {
            "tags": []
          },
          "execution_count": 3
        }
      ]
    },
    {
      "cell_type": "code",
      "metadata": {
        "colab": {
          "base_uri": "https://localhost:8080/",
          "height": 197
        },
        "id": "0CvDGfbSmqJU",
        "outputId": "951481a5-8329-4a30-8480-8dd10df0d55d"
      },
      "source": [
        "df.tail()"
      ],
      "execution_count": null,
      "outputs": [
        {
          "output_type": "execute_result",
          "data": {
            "text/html": [
              "<div>\n",
              "<style scoped>\n",
              "    .dataframe tbody tr th:only-of-type {\n",
              "        vertical-align: middle;\n",
              "    }\n",
              "\n",
              "    .dataframe tbody tr th {\n",
              "        vertical-align: top;\n",
              "    }\n",
              "\n",
              "    .dataframe thead th {\n",
              "        text-align: right;\n",
              "    }\n",
              "</style>\n",
              "<table border=\"1\" class=\"dataframe\">\n",
              "  <thead>\n",
              "    <tr style=\"text-align: right;\">\n",
              "      <th></th>\n",
              "      <th>Data</th>\n",
              "      <th>Quedas</th>\n",
              "    </tr>\n",
              "  </thead>\n",
              "  <tbody>\n",
              "    <tr>\n",
              "      <th>139</th>\n",
              "      <td>2019-08-01</td>\n",
              "      <td>12144</td>\n",
              "    </tr>\n",
              "    <tr>\n",
              "      <th>140</th>\n",
              "      <td>2019-09-01</td>\n",
              "      <td>11175</td>\n",
              "    </tr>\n",
              "    <tr>\n",
              "      <th>141</th>\n",
              "      <td>2019-10-01</td>\n",
              "      <td>11334</td>\n",
              "    </tr>\n",
              "    <tr>\n",
              "      <th>142</th>\n",
              "      <td>2019-11-01</td>\n",
              "      <td>10868</td>\n",
              "    </tr>\n",
              "    <tr>\n",
              "      <th>143</th>\n",
              "      <td>2019-12-01</td>\n",
              "      <td>11051</td>\n",
              "    </tr>\n",
              "  </tbody>\n",
              "</table>\n",
              "</div>"
            ],
            "text/plain": [
              "          Data  Quedas\n",
              "139 2019-08-01   12144\n",
              "140 2019-09-01   11175\n",
              "141 2019-10-01   11334\n",
              "142 2019-11-01   10868\n",
              "143 2019-12-01   11051"
            ]
          },
          "metadata": {
            "tags": []
          },
          "execution_count": 4
        }
      ]
    },
    {
      "cell_type": "code",
      "metadata": {
        "id": "FbnpUrhwjfAI",
        "colab": {
          "base_uri": "https://localhost:8080/"
        },
        "outputId": "9e3db12e-4159-4a98-9db0-02849aa4ad33"
      },
      "source": [
        "# Verificação dos tipos de dados\n",
        "df.dtypes"
      ],
      "execution_count": null,
      "outputs": [
        {
          "output_type": "execute_result",
          "data": {
            "text/plain": [
              "Data      datetime64[ns]\n",
              "Quedas             int64\n",
              "dtype: object"
            ]
          },
          "metadata": {
            "tags": []
          },
          "execution_count": 5
        }
      ]
    },
    {
      "cell_type": "code",
      "metadata": {
        "id": "hN7ZyT5AjoiB",
        "colab": {
          "base_uri": "https://localhost:8080/",
          "height": 197
        },
        "outputId": "eacd2d88-5850-4f05-9063-4c3c5c1fde77"
      },
      "source": [
        "# Renomeando as colunas, conforme requisitado pela biblioteca Prophet, e visualização das cinco primeiras linhas\n",
        "df.columns = [\"ds\",\"y\"]\n",
        "df.head()"
      ],
      "execution_count": null,
      "outputs": [
        {
          "output_type": "execute_result",
          "data": {
            "text/html": [
              "<div>\n",
              "<style scoped>\n",
              "    .dataframe tbody tr th:only-of-type {\n",
              "        vertical-align: middle;\n",
              "    }\n",
              "\n",
              "    .dataframe tbody tr th {\n",
              "        vertical-align: top;\n",
              "    }\n",
              "\n",
              "    .dataframe thead th {\n",
              "        text-align: right;\n",
              "    }\n",
              "</style>\n",
              "<table border=\"1\" class=\"dataframe\">\n",
              "  <thead>\n",
              "    <tr style=\"text-align: right;\">\n",
              "      <th></th>\n",
              "      <th>ds</th>\n",
              "      <th>y</th>\n",
              "    </tr>\n",
              "  </thead>\n",
              "  <tbody>\n",
              "    <tr>\n",
              "      <th>0</th>\n",
              "      <td>2008-01-01</td>\n",
              "      <td>4745</td>\n",
              "    </tr>\n",
              "    <tr>\n",
              "      <th>1</th>\n",
              "      <td>2008-02-01</td>\n",
              "      <td>4266</td>\n",
              "    </tr>\n",
              "    <tr>\n",
              "      <th>2</th>\n",
              "      <td>2008-03-01</td>\n",
              "      <td>4794</td>\n",
              "    </tr>\n",
              "    <tr>\n",
              "      <th>3</th>\n",
              "      <td>2008-04-01</td>\n",
              "      <td>4752</td>\n",
              "    </tr>\n",
              "    <tr>\n",
              "      <th>4</th>\n",
              "      <td>2008-05-01</td>\n",
              "      <td>5233</td>\n",
              "    </tr>\n",
              "  </tbody>\n",
              "</table>\n",
              "</div>"
            ],
            "text/plain": [
              "          ds     y\n",
              "0 2008-01-01  4745\n",
              "1 2008-02-01  4266\n",
              "2 2008-03-01  4794\n",
              "3 2008-04-01  4752\n",
              "4 2008-05-01  5233"
            ]
          },
          "metadata": {
            "tags": []
          },
          "execution_count": 6
        }
      ]
    },
    {
      "cell_type": "code",
      "metadata": {
        "colab": {
          "base_uri": "https://localhost:8080/",
          "height": 197
        },
        "id": "Kjmxevn8tLq3",
        "outputId": "071f98e1-7476-46c5-f1ae-4246b5602a46"
      },
      "source": [
        "df.head()"
      ],
      "execution_count": null,
      "outputs": [
        {
          "output_type": "execute_result",
          "data": {
            "text/html": [
              "<div>\n",
              "<style scoped>\n",
              "    .dataframe tbody tr th:only-of-type {\n",
              "        vertical-align: middle;\n",
              "    }\n",
              "\n",
              "    .dataframe tbody tr th {\n",
              "        vertical-align: top;\n",
              "    }\n",
              "\n",
              "    .dataframe thead th {\n",
              "        text-align: right;\n",
              "    }\n",
              "</style>\n",
              "<table border=\"1\" class=\"dataframe\">\n",
              "  <thead>\n",
              "    <tr style=\"text-align: right;\">\n",
              "      <th></th>\n",
              "      <th>ds</th>\n",
              "      <th>y</th>\n",
              "    </tr>\n",
              "  </thead>\n",
              "  <tbody>\n",
              "    <tr>\n",
              "      <th>0</th>\n",
              "      <td>2008-01-01</td>\n",
              "      <td>4745</td>\n",
              "    </tr>\n",
              "    <tr>\n",
              "      <th>1</th>\n",
              "      <td>2008-02-01</td>\n",
              "      <td>4266</td>\n",
              "    </tr>\n",
              "    <tr>\n",
              "      <th>2</th>\n",
              "      <td>2008-03-01</td>\n",
              "      <td>4794</td>\n",
              "    </tr>\n",
              "    <tr>\n",
              "      <th>3</th>\n",
              "      <td>2008-04-01</td>\n",
              "      <td>4752</td>\n",
              "    </tr>\n",
              "    <tr>\n",
              "      <th>4</th>\n",
              "      <td>2008-05-01</td>\n",
              "      <td>5233</td>\n",
              "    </tr>\n",
              "  </tbody>\n",
              "</table>\n",
              "</div>"
            ],
            "text/plain": [
              "          ds     y\n",
              "0 2008-01-01  4745\n",
              "1 2008-02-01  4266\n",
              "2 2008-03-01  4794\n",
              "3 2008-04-01  4752\n",
              "4 2008-05-01  5233"
            ]
          },
          "metadata": {
            "tags": []
          },
          "execution_count": 7
        }
      ]
    },
    {
      "cell_type": "markdown",
      "metadata": {
        "id": "SC6P5ZFBR5JS"
      },
      "source": [
        "## **Modelo Preditivo - Prophet**"
      ]
    },
    {
      "cell_type": "code",
      "metadata": {
        "id": "qSWvaBeVtQmO"
      },
      "source": [
        "from fbprophet import Prophet"
      ],
      "execution_count": null,
      "outputs": []
    },
    {
      "cell_type": "code",
      "metadata": {
        "id": "VHv7_-thkj17"
      },
      "source": [
        "model = Prophet()"
      ],
      "execution_count": null,
      "outputs": []
    },
    {
      "cell_type": "code",
      "metadata": {
        "id": "EvhLlYYLkqLi",
        "colab": {
          "base_uri": "https://localhost:8080/"
        },
        "outputId": "b18ea47c-f485-4859-ea8f-ebdaa5255cbf"
      },
      "source": [
        "# Ajuste do modelo\n",
        "model.fit(df)"
      ],
      "execution_count": null,
      "outputs": [
        {
          "output_type": "stream",
          "text": [
            "INFO:numexpr.utils:NumExpr defaulting to 2 threads.\n",
            "INFO:fbprophet:Disabling weekly seasonality. Run prophet with weekly_seasonality=True to override this.\n",
            "INFO:fbprophet:Disabling daily seasonality. Run prophet with daily_seasonality=True to override this.\n"
          ],
          "name": "stderr"
        },
        {
          "output_type": "execute_result",
          "data": {
            "text/plain": [
              "<fbprophet.forecaster.Prophet at 0x7fee380c2ba8>"
            ]
          },
          "metadata": {
            "tags": []
          },
          "execution_count": 10
        }
      ]
    },
    {
      "cell_type": "code",
      "metadata": {
        "colab": {
          "base_uri": "https://localhost:8080/"
        },
        "id": "Ix3Fjb81opzH",
        "outputId": "88168165-ceef-44bb-f6e0-e62d7e045565"
      },
      "source": [
        "model"
      ],
      "execution_count": null,
      "outputs": [
        {
          "output_type": "execute_result",
          "data": {
            "text/plain": [
              "<fbprophet.forecaster.Prophet at 0x7fee380c2ba8>"
            ]
          },
          "metadata": {
            "tags": []
          },
          "execution_count": 11
        }
      ]
    },
    {
      "cell_type": "code",
      "metadata": {
        "id": "_iNliXn6kx8h"
      },
      "source": [
        "# Criando datas futuras para previsões em um dataframe\n",
        "future = model.make_future_dataframe(periods = 24, freq='M')"
      ],
      "execution_count": null,
      "outputs": []
    },
    {
      "cell_type": "code",
      "metadata": {
        "id": "kSVhwxGPlMhW",
        "colab": {
          "base_uri": "https://localhost:8080/",
          "height": 197
        },
        "outputId": "0ed475bf-9fec-471e-df42-c8ad2e10c154"
      },
      "source": [
        "# Visualização das cinco últimas linhas - última da da previsão é Dezembro de 2021\n",
        "future.tail()"
      ],
      "execution_count": null,
      "outputs": [
        {
          "output_type": "execute_result",
          "data": {
            "text/html": [
              "<div>\n",
              "<style scoped>\n",
              "    .dataframe tbody tr th:only-of-type {\n",
              "        vertical-align: middle;\n",
              "    }\n",
              "\n",
              "    .dataframe tbody tr th {\n",
              "        vertical-align: top;\n",
              "    }\n",
              "\n",
              "    .dataframe thead th {\n",
              "        text-align: right;\n",
              "    }\n",
              "</style>\n",
              "<table border=\"1\" class=\"dataframe\">\n",
              "  <thead>\n",
              "    <tr style=\"text-align: right;\">\n",
              "      <th></th>\n",
              "      <th>ds</th>\n",
              "    </tr>\n",
              "  </thead>\n",
              "  <tbody>\n",
              "    <tr>\n",
              "      <th>163</th>\n",
              "      <td>2021-07-31</td>\n",
              "    </tr>\n",
              "    <tr>\n",
              "      <th>164</th>\n",
              "      <td>2021-08-31</td>\n",
              "    </tr>\n",
              "    <tr>\n",
              "      <th>165</th>\n",
              "      <td>2021-09-30</td>\n",
              "    </tr>\n",
              "    <tr>\n",
              "      <th>166</th>\n",
              "      <td>2021-10-31</td>\n",
              "    </tr>\n",
              "    <tr>\n",
              "      <th>167</th>\n",
              "      <td>2021-11-30</td>\n",
              "    </tr>\n",
              "  </tbody>\n",
              "</table>\n",
              "</div>"
            ],
            "text/plain": [
              "            ds\n",
              "163 2021-07-31\n",
              "164 2021-08-31\n",
              "165 2021-09-30\n",
              "166 2021-10-31\n",
              "167 2021-11-30"
            ]
          },
          "metadata": {
            "tags": []
          },
          "execution_count": 13
        }
      ]
    },
    {
      "cell_type": "code",
      "metadata": {
        "id": "UPfdjI6MlWNh"
      },
      "source": [
        "# Previsão dos dados \n",
        "pred = model.predict(future)"
      ],
      "execution_count": null,
      "outputs": []
    },
    {
      "cell_type": "code",
      "metadata": {
        "id": "HtZNiR0jlgPk",
        "colab": {
          "base_uri": "https://localhost:8080/",
          "height": 593
        },
        "outputId": "f694ecf2-2e39-4ed0-dd16-73811b7784ec"
      },
      "source": [
        "# Visualização dos dados gerados pelo modelo\n",
        "pred"
      ],
      "execution_count": null,
      "outputs": [
        {
          "output_type": "execute_result",
          "data": {
            "text/html": [
              "<div>\n",
              "<style scoped>\n",
              "    .dataframe tbody tr th:only-of-type {\n",
              "        vertical-align: middle;\n",
              "    }\n",
              "\n",
              "    .dataframe tbody tr th {\n",
              "        vertical-align: top;\n",
              "    }\n",
              "\n",
              "    .dataframe thead th {\n",
              "        text-align: right;\n",
              "    }\n",
              "</style>\n",
              "<table border=\"1\" class=\"dataframe\">\n",
              "  <thead>\n",
              "    <tr style=\"text-align: right;\">\n",
              "      <th></th>\n",
              "      <th>ds</th>\n",
              "      <th>trend</th>\n",
              "      <th>yhat_lower</th>\n",
              "      <th>yhat_upper</th>\n",
              "      <th>trend_lower</th>\n",
              "      <th>trend_upper</th>\n",
              "      <th>additive_terms</th>\n",
              "      <th>additive_terms_lower</th>\n",
              "      <th>additive_terms_upper</th>\n",
              "      <th>yearly</th>\n",
              "      <th>yearly_lower</th>\n",
              "      <th>yearly_upper</th>\n",
              "      <th>multiplicative_terms</th>\n",
              "      <th>multiplicative_terms_lower</th>\n",
              "      <th>multiplicative_terms_upper</th>\n",
              "      <th>yhat</th>\n",
              "    </tr>\n",
              "  </thead>\n",
              "  <tbody>\n",
              "    <tr>\n",
              "      <th>0</th>\n",
              "      <td>2008-01-01</td>\n",
              "      <td>4674.364282</td>\n",
              "      <td>4197.351989</td>\n",
              "      <td>4673.971785</td>\n",
              "      <td>4674.364282</td>\n",
              "      <td>4674.364282</td>\n",
              "      <td>-235.075036</td>\n",
              "      <td>-235.075036</td>\n",
              "      <td>-235.075036</td>\n",
              "      <td>-235.075036</td>\n",
              "      <td>-235.075036</td>\n",
              "      <td>-235.075036</td>\n",
              "      <td>0.0</td>\n",
              "      <td>0.0</td>\n",
              "      <td>0.0</td>\n",
              "      <td>4439.289246</td>\n",
              "    </tr>\n",
              "    <tr>\n",
              "      <th>1</th>\n",
              "      <td>2008-02-01</td>\n",
              "      <td>4736.453736</td>\n",
              "      <td>3683.461115</td>\n",
              "      <td>4150.677548</td>\n",
              "      <td>4736.453736</td>\n",
              "      <td>4736.453736</td>\n",
              "      <td>-812.984017</td>\n",
              "      <td>-812.984017</td>\n",
              "      <td>-812.984017</td>\n",
              "      <td>-812.984017</td>\n",
              "      <td>-812.984017</td>\n",
              "      <td>-812.984017</td>\n",
              "      <td>0.0</td>\n",
              "      <td>0.0</td>\n",
              "      <td>0.0</td>\n",
              "      <td>3923.469718</td>\n",
              "    </tr>\n",
              "    <tr>\n",
              "      <th>2</th>\n",
              "      <td>2008-03-01</td>\n",
              "      <td>4794.537419</td>\n",
              "      <td>4418.161552</td>\n",
              "      <td>4917.080569</td>\n",
              "      <td>4794.537419</td>\n",
              "      <td>4794.537419</td>\n",
              "      <td>-119.479488</td>\n",
              "      <td>-119.479488</td>\n",
              "      <td>-119.479488</td>\n",
              "      <td>-119.479488</td>\n",
              "      <td>-119.479488</td>\n",
              "      <td>-119.479488</td>\n",
              "      <td>0.0</td>\n",
              "      <td>0.0</td>\n",
              "      <td>0.0</td>\n",
              "      <td>4675.057931</td>\n",
              "    </tr>\n",
              "    <tr>\n",
              "      <th>3</th>\n",
              "      <td>2008-04-01</td>\n",
              "      <td>4856.626873</td>\n",
              "      <td>4265.762882</td>\n",
              "      <td>4761.021069</td>\n",
              "      <td>4856.626873</td>\n",
              "      <td>4856.626873</td>\n",
              "      <td>-356.740867</td>\n",
              "      <td>-356.740867</td>\n",
              "      <td>-356.740867</td>\n",
              "      <td>-356.740867</td>\n",
              "      <td>-356.740867</td>\n",
              "      <td>-356.740867</td>\n",
              "      <td>0.0</td>\n",
              "      <td>0.0</td>\n",
              "      <td>0.0</td>\n",
              "      <td>4499.886006</td>\n",
              "    </tr>\n",
              "    <tr>\n",
              "      <th>4</th>\n",
              "      <td>2008-05-01</td>\n",
              "      <td>4916.713442</td>\n",
              "      <td>5071.747681</td>\n",
              "      <td>5575.002363</td>\n",
              "      <td>4916.713442</td>\n",
              "      <td>4916.713442</td>\n",
              "      <td>422.492257</td>\n",
              "      <td>422.492257</td>\n",
              "      <td>422.492257</td>\n",
              "      <td>422.492257</td>\n",
              "      <td>422.492257</td>\n",
              "      <td>422.492257</td>\n",
              "      <td>0.0</td>\n",
              "      <td>0.0</td>\n",
              "      <td>0.0</td>\n",
              "      <td>5339.205698</td>\n",
              "    </tr>\n",
              "    <tr>\n",
              "      <th>...</th>\n",
              "      <td>...</td>\n",
              "      <td>...</td>\n",
              "      <td>...</td>\n",
              "      <td>...</td>\n",
              "      <td>...</td>\n",
              "      <td>...</td>\n",
              "      <td>...</td>\n",
              "      <td>...</td>\n",
              "      <td>...</td>\n",
              "      <td>...</td>\n",
              "      <td>...</td>\n",
              "      <td>...</td>\n",
              "      <td>...</td>\n",
              "      <td>...</td>\n",
              "      <td>...</td>\n",
              "      <td>...</td>\n",
              "    </tr>\n",
              "    <tr>\n",
              "      <th>163</th>\n",
              "      <td>2021-07-31</td>\n",
              "      <td>12770.167482</td>\n",
              "      <td>13307.439882</td>\n",
              "      <td>13864.694913</td>\n",
              "      <td>12656.330051</td>\n",
              "      <td>12859.001714</td>\n",
              "      <td>823.152267</td>\n",
              "      <td>823.152267</td>\n",
              "      <td>823.152267</td>\n",
              "      <td>823.152267</td>\n",
              "      <td>823.152267</td>\n",
              "      <td>823.152267</td>\n",
              "      <td>0.0</td>\n",
              "      <td>0.0</td>\n",
              "      <td>0.0</td>\n",
              "      <td>13593.319750</td>\n",
              "    </tr>\n",
              "    <tr>\n",
              "      <th>164</th>\n",
              "      <td>2021-08-31</td>\n",
              "      <td>12834.396059</td>\n",
              "      <td>12405.335188</td>\n",
              "      <td>12964.200092</td>\n",
              "      <td>12709.865833</td>\n",
              "      <td>12932.359968</td>\n",
              "      <td>-138.864781</td>\n",
              "      <td>-138.864781</td>\n",
              "      <td>-138.864781</td>\n",
              "      <td>-138.864781</td>\n",
              "      <td>-138.864781</td>\n",
              "      <td>-138.864781</td>\n",
              "      <td>0.0</td>\n",
              "      <td>0.0</td>\n",
              "      <td>0.0</td>\n",
              "      <td>12695.531278</td>\n",
              "    </tr>\n",
              "    <tr>\n",
              "      <th>165</th>\n",
              "      <td>2021-09-30</td>\n",
              "      <td>12896.552746</td>\n",
              "      <td>12545.127090</td>\n",
              "      <td>13108.489829</td>\n",
              "      <td>12765.479384</td>\n",
              "      <td>13002.389451</td>\n",
              "      <td>-50.739061</td>\n",
              "      <td>-50.739061</td>\n",
              "      <td>-50.739061</td>\n",
              "      <td>-50.739061</td>\n",
              "      <td>-50.739061</td>\n",
              "      <td>-50.739061</td>\n",
              "      <td>0.0</td>\n",
              "      <td>0.0</td>\n",
              "      <td>0.0</td>\n",
              "      <td>12845.813685</td>\n",
              "    </tr>\n",
              "    <tr>\n",
              "      <th>166</th>\n",
              "      <td>2021-10-31</td>\n",
              "      <td>12960.781322</td>\n",
              "      <td>12150.946344</td>\n",
              "      <td>12697.635565</td>\n",
              "      <td>12819.315836</td>\n",
              "      <td>13079.069208</td>\n",
              "      <td>-515.241435</td>\n",
              "      <td>-515.241435</td>\n",
              "      <td>-515.241435</td>\n",
              "      <td>-515.241435</td>\n",
              "      <td>-515.241435</td>\n",
              "      <td>-515.241435</td>\n",
              "      <td>0.0</td>\n",
              "      <td>0.0</td>\n",
              "      <td>0.0</td>\n",
              "      <td>12445.539888</td>\n",
              "    </tr>\n",
              "    <tr>\n",
              "      <th>167</th>\n",
              "      <td>2021-11-30</td>\n",
              "      <td>13022.938009</td>\n",
              "      <td>12253.273414</td>\n",
              "      <td>12826.077814</td>\n",
              "      <td>12870.660862</td>\n",
              "      <td>13149.362937</td>\n",
              "      <td>-472.514388</td>\n",
              "      <td>-472.514388</td>\n",
              "      <td>-472.514388</td>\n",
              "      <td>-472.514388</td>\n",
              "      <td>-472.514388</td>\n",
              "      <td>-472.514388</td>\n",
              "      <td>0.0</td>\n",
              "      <td>0.0</td>\n",
              "      <td>0.0</td>\n",
              "      <td>12550.423621</td>\n",
              "    </tr>\n",
              "  </tbody>\n",
              "</table>\n",
              "<p>168 rows × 16 columns</p>\n",
              "</div>"
            ],
            "text/plain": [
              "            ds         trend  ...  multiplicative_terms_upper          yhat\n",
              "0   2008-01-01   4674.364282  ...                         0.0   4439.289246\n",
              "1   2008-02-01   4736.453736  ...                         0.0   3923.469718\n",
              "2   2008-03-01   4794.537419  ...                         0.0   4675.057931\n",
              "3   2008-04-01   4856.626873  ...                         0.0   4499.886006\n",
              "4   2008-05-01   4916.713442  ...                         0.0   5339.205698\n",
              "..         ...           ...  ...                         ...           ...\n",
              "163 2021-07-31  12770.167482  ...                         0.0  13593.319750\n",
              "164 2021-08-31  12834.396059  ...                         0.0  12695.531278\n",
              "165 2021-09-30  12896.552746  ...                         0.0  12845.813685\n",
              "166 2021-10-31  12960.781322  ...                         0.0  12445.539888\n",
              "167 2021-11-30  13022.938009  ...                         0.0  12550.423621\n",
              "\n",
              "[168 rows x 16 columns]"
            ]
          },
          "metadata": {
            "tags": []
          },
          "execution_count": 15
        }
      ]
    },
    {
      "cell_type": "code",
      "metadata": {
        "id": "iLBA3PuelkPs",
        "colab": {
          "base_uri": "https://localhost:8080/",
          "height": 197
        },
        "outputId": "d2d3e2c5-42c3-4320-8e7f-bc6cf07b8ea4"
      },
      "source": [
        "# Visulaização das cinco primeiras linhas dos dados ds (data), yhat (previsão do modelo), yhat_lower e yhta_uooer (valores previstos para os intervalos de incerteza)\n",
        "pred[[\"ds\",\"yhat\",\"yhat_lower\",\"yhat_upper\"]].head()"
      ],
      "execution_count": null,
      "outputs": [
        {
          "output_type": "execute_result",
          "data": {
            "text/html": [
              "<div>\n",
              "<style scoped>\n",
              "    .dataframe tbody tr th:only-of-type {\n",
              "        vertical-align: middle;\n",
              "    }\n",
              "\n",
              "    .dataframe tbody tr th {\n",
              "        vertical-align: top;\n",
              "    }\n",
              "\n",
              "    .dataframe thead th {\n",
              "        text-align: right;\n",
              "    }\n",
              "</style>\n",
              "<table border=\"1\" class=\"dataframe\">\n",
              "  <thead>\n",
              "    <tr style=\"text-align: right;\">\n",
              "      <th></th>\n",
              "      <th>ds</th>\n",
              "      <th>yhat</th>\n",
              "      <th>yhat_lower</th>\n",
              "      <th>yhat_upper</th>\n",
              "    </tr>\n",
              "  </thead>\n",
              "  <tbody>\n",
              "    <tr>\n",
              "      <th>0</th>\n",
              "      <td>2008-01-01</td>\n",
              "      <td>4439.289246</td>\n",
              "      <td>4197.351989</td>\n",
              "      <td>4673.971785</td>\n",
              "    </tr>\n",
              "    <tr>\n",
              "      <th>1</th>\n",
              "      <td>2008-02-01</td>\n",
              "      <td>3923.469718</td>\n",
              "      <td>3683.461115</td>\n",
              "      <td>4150.677548</td>\n",
              "    </tr>\n",
              "    <tr>\n",
              "      <th>2</th>\n",
              "      <td>2008-03-01</td>\n",
              "      <td>4675.057931</td>\n",
              "      <td>4418.161552</td>\n",
              "      <td>4917.080569</td>\n",
              "    </tr>\n",
              "    <tr>\n",
              "      <th>3</th>\n",
              "      <td>2008-04-01</td>\n",
              "      <td>4499.886006</td>\n",
              "      <td>4265.762882</td>\n",
              "      <td>4761.021069</td>\n",
              "    </tr>\n",
              "    <tr>\n",
              "      <th>4</th>\n",
              "      <td>2008-05-01</td>\n",
              "      <td>5339.205698</td>\n",
              "      <td>5071.747681</td>\n",
              "      <td>5575.002363</td>\n",
              "    </tr>\n",
              "  </tbody>\n",
              "</table>\n",
              "</div>"
            ],
            "text/plain": [
              "          ds         yhat   yhat_lower   yhat_upper\n",
              "0 2008-01-01  4439.289246  4197.351989  4673.971785\n",
              "1 2008-02-01  3923.469718  3683.461115  4150.677548\n",
              "2 2008-03-01  4675.057931  4418.161552  4917.080569\n",
              "3 2008-04-01  4499.886006  4265.762882  4761.021069\n",
              "4 2008-05-01  5339.205698  5071.747681  5575.002363"
            ]
          },
          "metadata": {
            "tags": []
          },
          "execution_count": 16
        }
      ]
    },
    {
      "cell_type": "code",
      "metadata": {
        "colab": {
          "base_uri": "https://localhost:8080/",
          "height": 377
        },
        "id": "wV0UsD37WhoL",
        "outputId": "3585120a-e83e-4d71-fc8a-8d2bb4ab6a54"
      },
      "source": [
        "# Visulaização das cinco últimas linhas dos dados ds (data), yhat (previsão do modelo), yhat_lower e yhta_uooer (valores previstos para os intervalos de incerteza)\n",
        "pred[[\"ds\",\"yhat\",\"yhat_lower\",\"yhat_upper\"]].tail(11)"
      ],
      "execution_count": null,
      "outputs": [
        {
          "output_type": "execute_result",
          "data": {
            "text/html": [
              "<div>\n",
              "<style scoped>\n",
              "    .dataframe tbody tr th:only-of-type {\n",
              "        vertical-align: middle;\n",
              "    }\n",
              "\n",
              "    .dataframe tbody tr th {\n",
              "        vertical-align: top;\n",
              "    }\n",
              "\n",
              "    .dataframe thead th {\n",
              "        text-align: right;\n",
              "    }\n",
              "</style>\n",
              "<table border=\"1\" class=\"dataframe\">\n",
              "  <thead>\n",
              "    <tr style=\"text-align: right;\">\n",
              "      <th></th>\n",
              "      <th>ds</th>\n",
              "      <th>yhat</th>\n",
              "      <th>yhat_lower</th>\n",
              "      <th>yhat_upper</th>\n",
              "    </tr>\n",
              "  </thead>\n",
              "  <tbody>\n",
              "    <tr>\n",
              "      <th>157</th>\n",
              "      <td>2021-01-31</td>\n",
              "      <td>11666.852431</td>\n",
              "      <td>11394.125767</td>\n",
              "      <td>11907.852304</td>\n",
              "    </tr>\n",
              "    <tr>\n",
              "      <th>158</th>\n",
              "      <td>2021-02-28</td>\n",
              "      <td>11842.822831</td>\n",
              "      <td>11565.145407</td>\n",
              "      <td>12080.248679</td>\n",
              "    </tr>\n",
              "    <tr>\n",
              "      <th>159</th>\n",
              "      <td>2021-03-31</td>\n",
              "      <td>12391.064176</td>\n",
              "      <td>12131.837173</td>\n",
              "      <td>12622.422010</td>\n",
              "    </tr>\n",
              "    <tr>\n",
              "      <th>160</th>\n",
              "      <td>2021-04-30</td>\n",
              "      <td>12887.178258</td>\n",
              "      <td>12605.245433</td>\n",
              "      <td>13153.402840</td>\n",
              "    </tr>\n",
              "    <tr>\n",
              "      <th>161</th>\n",
              "      <td>2021-05-31</td>\n",
              "      <td>12654.138078</td>\n",
              "      <td>12369.036428</td>\n",
              "      <td>12896.844304</td>\n",
              "    </tr>\n",
              "    <tr>\n",
              "      <th>162</th>\n",
              "      <td>2021-06-30</td>\n",
              "      <td>13771.172379</td>\n",
              "      <td>13509.562521</td>\n",
              "      <td>14041.479350</td>\n",
              "    </tr>\n",
              "    <tr>\n",
              "      <th>163</th>\n",
              "      <td>2021-07-31</td>\n",
              "      <td>13593.319750</td>\n",
              "      <td>13307.439882</td>\n",
              "      <td>13864.694913</td>\n",
              "    </tr>\n",
              "    <tr>\n",
              "      <th>164</th>\n",
              "      <td>2021-08-31</td>\n",
              "      <td>12695.531278</td>\n",
              "      <td>12405.335188</td>\n",
              "      <td>12964.200092</td>\n",
              "    </tr>\n",
              "    <tr>\n",
              "      <th>165</th>\n",
              "      <td>2021-09-30</td>\n",
              "      <td>12845.813685</td>\n",
              "      <td>12545.127090</td>\n",
              "      <td>13108.489829</td>\n",
              "    </tr>\n",
              "    <tr>\n",
              "      <th>166</th>\n",
              "      <td>2021-10-31</td>\n",
              "      <td>12445.539888</td>\n",
              "      <td>12150.946344</td>\n",
              "      <td>12697.635565</td>\n",
              "    </tr>\n",
              "    <tr>\n",
              "      <th>167</th>\n",
              "      <td>2021-11-30</td>\n",
              "      <td>12550.423621</td>\n",
              "      <td>12253.273414</td>\n",
              "      <td>12826.077814</td>\n",
              "    </tr>\n",
              "  </tbody>\n",
              "</table>\n",
              "</div>"
            ],
            "text/plain": [
              "            ds          yhat    yhat_lower    yhat_upper\n",
              "157 2021-01-31  11666.852431  11394.125767  11907.852304\n",
              "158 2021-02-28  11842.822831  11565.145407  12080.248679\n",
              "159 2021-03-31  12391.064176  12131.837173  12622.422010\n",
              "160 2021-04-30  12887.178258  12605.245433  13153.402840\n",
              "161 2021-05-31  12654.138078  12369.036428  12896.844304\n",
              "162 2021-06-30  13771.172379  13509.562521  14041.479350\n",
              "163 2021-07-31  13593.319750  13307.439882  13864.694913\n",
              "164 2021-08-31  12695.531278  12405.335188  12964.200092\n",
              "165 2021-09-30  12845.813685  12545.127090  13108.489829\n",
              "166 2021-10-31  12445.539888  12150.946344  12697.635565\n",
              "167 2021-11-30  12550.423621  12253.273414  12826.077814"
            ]
          },
          "metadata": {
            "tags": []
          },
          "execution_count": 17
        }
      ]
    },
    {
      "cell_type": "markdown",
      "metadata": {
        "id": "UmEJzmhPWn9-"
      },
      "source": [
        "## **Análise gráfica do modelo de previsão**"
      ]
    },
    {
      "cell_type": "code",
      "metadata": {
        "colab": {
          "base_uri": "https://localhost:8080/",
          "height": 441
        },
        "id": "4wWprQoTyHN-",
        "outputId": "284b5f87-b4c3-4903-ea48-2c49edea3451"
      },
      "source": [
        "#Visualização gráfica dos dados - Período de 2008 a 2021\n",
        "ax = model.plot(pred);"
      ],
      "execution_count": null,
      "outputs": [
        {
          "output_type": "display_data",
          "data": {
            "image/png": "[encoded data removed]",
            "text/plain": [
              "<Figure size 720x432 with 1 Axes>"
            ]
          },
          "metadata": {
            "tags": []
          }
        }
      ]
    },
    {
      "cell_type": "code",
      "metadata": {
        "id": "5DHGI9N7m_K0",
        "colab": {
          "base_uri": "https://localhost:8080/",
          "height": 441
        },
        "outputId": "963d5b14-0010-4483-d3f5-620c2ae55cbe"
      },
      "source": [
        "#visualizacao de cada componente do modelo previsto. Trend é a tendências e yearly a sazonalidade\n",
        "model.plot_components(pred);"
      ],
      "execution_count": null,
      "outputs": [
        {
          "output_type": "display_data",
          "data": {
            "image/png": "[encoded data removed]",
            "text/plain": [
              "<Figure size 648x432 with 2 Axes>"
            ]
          },
          "metadata": {
            "tags": []
          }
        }
      ]
    },
    {
      "cell_type": "markdown",
      "metadata": {
        "id": "kfbbdksE0Bbr"
      },
      "source": [
        "Conforme observado nos gráficos acima, há uma tendência de crescimento no número de quedas que poderá ocorrer com os idosos, podendo afetar quase 140 mil pessoas ao longo do ano, ecom média de 12,7 mil quedas por mês e picos durante o período de inverno."
      ]
    }
  ]
}