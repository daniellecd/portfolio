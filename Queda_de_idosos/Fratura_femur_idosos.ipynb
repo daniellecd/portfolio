{
  "nbformat": 4,
  "nbformat_minor": 0,
  "metadata": {
    "colab": {
      "name": "Fratura_femur_idosos.ipynb",
      "provenance": [],
      "collapsed_sections": [],
      "include_colab_link": true
    },
    "kernelspec": {
      "name": "python3",
      "display_name": "Python 3"
    }
  },
  "cells": [
    {
      "cell_type": "markdown",
      "metadata": {
        "id": "view-in-github",
        "colab_type": "text"
      },
      "source": [
        "<a href=\"https://colab.research.google.com/github/daniellecd/portfolio/blob/master/Queda_de_idosos/Fratura_femur_idosos.ipynb\" target=\"_parent\"><img src=\"https://colab.research.google.com/assets/colab-badge.svg\" alt=\"Open In Colab\"/></a>"
      ]
    },
    {
      "cell_type": "markdown",
      "metadata": {
        "id": "KTxswHG7I7gs"
      },
      "source": [
        "# **Previsão do quantitativo de fraturas do fêmur em idosos**\n",
        "\n"
      ]
    },
    {
      "cell_type": "markdown",
      "metadata": {
        "id": "ejUb5ErgIawY"
      },
      "source": [
        "## **Instalação dos pacotes necessários**"
      ]
    },
    {
      "cell_type": "code",
      "metadata": {
        "id": "1XTvBaQSidcN",
        "colab": {
          "base_uri": "https://localhost:8080/"
        },
        "outputId": "0fc701e9-367a-4dfc-958f-abff8623a711"
      },
      "source": [
        "#Instalação dos pacotes necessárias\n",
        "!pip install pystan\n",
        "!pip install fbprophet"
      ],
      "execution_count": null,
      "outputs": [
        {
          "output_type": "stream",
          "text": [
            "Requirement already satisfied: pystan in /usr/local/lib/python3.6/dist-packages (2.19.1.1)\n",
            "Requirement already satisfied: Cython!=0.25.1,>=0.22 in /usr/local/lib/python3.6/dist-packages (from pystan) (0.29.21)\n",
            "Requirement already satisfied: numpy>=1.7 in /usr/local/lib/python3.6/dist-packages (from pystan) (1.18.5)\n",
            "Requirement already satisfied: fbprophet in /usr/local/lib/python3.6/dist-packages (0.7.1)\n",
            "Requirement already satisfied: Cython>=0.22 in /usr/local/lib/python3.6/dist-packages (from fbprophet) (0.29.21)\n",
            "Requirement already satisfied: cmdstanpy==0.9.5 in /usr/local/lib/python3.6/dist-packages (from fbprophet) (0.9.5)\n",
            "Requirement already satisfied: pystan>=2.14 in /usr/local/lib/python3.6/dist-packages (from fbprophet) (2.19.1.1)\n",
            "Requirement already satisfied: numpy>=1.15.4 in /usr/local/lib/python3.6/dist-packages (from fbprophet) (1.18.5)\n",
            "Requirement already satisfied: pandas>=1.0.4 in /usr/local/lib/python3.6/dist-packages (from fbprophet) (1.1.5)\n",
            "Requirement already satisfied: matplotlib>=2.0.0 in /usr/local/lib/python3.6/dist-packages (from fbprophet) (3.2.2)\n",
            "Requirement already satisfied: LunarCalendar>=0.0.9 in /usr/local/lib/python3.6/dist-packages (from fbprophet) (0.0.9)\n",
            "Requirement already satisfied: convertdate>=2.1.2 in /usr/local/lib/python3.6/dist-packages (from fbprophet) (2.2.0)\n",
            "Requirement already satisfied: holidays>=0.10.2 in /usr/local/lib/python3.6/dist-packages (from fbprophet) (0.10.4)\n",
            "Requirement already satisfied: setuptools-git>=1.2 in /usr/local/lib/python3.6/dist-packages (from fbprophet) (1.2)\n",
            "Requirement already satisfied: python-dateutil>=2.8.0 in /usr/local/lib/python3.6/dist-packages (from fbprophet) (2.8.1)\n",
            "Requirement already satisfied: tqdm>=4.36.1 in /usr/local/lib/python3.6/dist-packages (from fbprophet) (4.41.1)\n",
            "Requirement already satisfied: pytz>=2017.2 in /usr/local/lib/python3.6/dist-packages (from pandas>=1.0.4->fbprophet) (2018.9)\n",
            "Requirement already satisfied: kiwisolver>=1.0.1 in /usr/local/lib/python3.6/dist-packages (from matplotlib>=2.0.0->fbprophet) (1.3.1)\n",
            "Requirement already satisfied: cycler>=0.10 in /usr/local/lib/python3.6/dist-packages (from matplotlib>=2.0.0->fbprophet) (0.10.0)\n",
            "Requirement already satisfied: pyparsing!=2.0.4,!=2.1.2,!=2.1.6,>=2.0.1 in /usr/local/lib/python3.6/dist-packages (from matplotlib>=2.0.0->fbprophet) (2.4.7)\n",
            "Requirement already satisfied: ephem>=3.7.5.3 in /usr/local/lib/python3.6/dist-packages (from LunarCalendar>=0.0.9->fbprophet) (3.7.7.1)\n",
            "Requirement already satisfied: pymeeus<=1,>=0.3.6 in /usr/local/lib/python3.6/dist-packages (from convertdate>=2.1.2->fbprophet) (0.3.7)\n",
            "Requirement already satisfied: six in /usr/local/lib/python3.6/dist-packages (from holidays>=0.10.2->fbprophet) (1.15.0)\n",
            "Requirement already satisfied: korean-lunar-calendar in /usr/local/lib/python3.6/dist-packages (from holidays>=0.10.2->fbprophet) (0.2.1)\n"
          ],
          "name": "stdout"
        }
      ]
    },
    {
      "cell_type": "code",
      "metadata": {
        "id": "amSgIKZhirNT"
      },
      "source": [
        "# Importação das bibliotecas necessárias \n",
        "import pandas as pd\n",
        "import numpy as np\n",
        "\n",
        "import fbprophet\n",
        "from fbprophet import Prophet\n",
        "\n",
        "import matplotlib.pyplot as plt\n",
        "from matplotlib import rcParams\n",
        "%matplotlib inline \n",
        "\n",
        "import warnings\n",
        "warnings.filterwarnings(\"ignore\")"
      ],
      "execution_count": null,
      "outputs": []
    },
    {
      "cell_type": "markdown",
      "metadata": {
        "id": "f_ibXkvbJjwF"
      },
      "source": [
        "## **Importação dos dados**"
      ]
    },
    {
      "cell_type": "code",
      "metadata": {
        "id": "6nDo5EYYjLiA",
        "colab": {
          "base_uri": "https://localhost:8080/",
          "height": 197
        },
        "outputId": "40368420-8452-4b95-957d-73a537061c92"
      },
      "source": [
        "#Leitura do dataset e cinco primeiras linhas\n",
        "df = pd.read_excel('/content/Fratura_Femur_Prophet.xlsx')\n",
        "df.head()"
      ],
      "execution_count": null,
      "outputs": [
        {
          "output_type": "execute_result",
          "data": {
            "text/html": [
              "<div>\n",
              "<style scoped>\n",
              "    .dataframe tbody tr th:only-of-type {\n",
              "        vertical-align: middle;\n",
              "    }\n",
              "\n",
              "    .dataframe tbody tr th {\n",
              "        vertical-align: top;\n",
              "    }\n",
              "\n",
              "    .dataframe thead th {\n",
              "        text-align: right;\n",
              "    }\n",
              "</style>\n",
              "<table border=\"1\" class=\"dataframe\">\n",
              "  <thead>\n",
              "    <tr style=\"text-align: right;\">\n",
              "      <th></th>\n",
              "      <th>Data</th>\n",
              "      <th>Fratura_femur</th>\n",
              "    </tr>\n",
              "  </thead>\n",
              "  <tbody>\n",
              "    <tr>\n",
              "      <th>0</th>\n",
              "      <td>2008-01-01</td>\n",
              "      <td>1505</td>\n",
              "    </tr>\n",
              "    <tr>\n",
              "      <th>1</th>\n",
              "      <td>2008-02-01</td>\n",
              "      <td>2424</td>\n",
              "    </tr>\n",
              "    <tr>\n",
              "      <th>2</th>\n",
              "      <td>2008-03-01</td>\n",
              "      <td>2499</td>\n",
              "    </tr>\n",
              "    <tr>\n",
              "      <th>3</th>\n",
              "      <td>2008-04-01</td>\n",
              "      <td>2440</td>\n",
              "    </tr>\n",
              "    <tr>\n",
              "      <th>4</th>\n",
              "      <td>2008-05-01</td>\n",
              "      <td>2739</td>\n",
              "    </tr>\n",
              "  </tbody>\n",
              "</table>\n",
              "</div>"
            ],
            "text/plain": [
              "        Data  Fratura_femur\n",
              "0 2008-01-01           1505\n",
              "1 2008-02-01           2424\n",
              "2 2008-03-01           2499\n",
              "3 2008-04-01           2440\n",
              "4 2008-05-01           2739"
            ]
          },
          "metadata": {
            "tags": []
          },
          "execution_count": 3
        }
      ]
    },
    {
      "cell_type": "code",
      "metadata": {
        "colab": {
          "base_uri": "https://localhost:8080/",
          "height": 197
        },
        "id": "0CvDGfbSmqJU",
        "outputId": "7ca3ca5a-f81a-4a27-e92d-90261a0b9eb0"
      },
      "source": [
        "df.tail()"
      ],
      "execution_count": null,
      "outputs": [
        {
          "output_type": "execute_result",
          "data": {
            "text/html": [
              "<div>\n",
              "<style scoped>\n",
              "    .dataframe tbody tr th:only-of-type {\n",
              "        vertical-align: middle;\n",
              "    }\n",
              "\n",
              "    .dataframe tbody tr th {\n",
              "        vertical-align: top;\n",
              "    }\n",
              "\n",
              "    .dataframe thead th {\n",
              "        text-align: right;\n",
              "    }\n",
              "</style>\n",
              "<table border=\"1\" class=\"dataframe\">\n",
              "  <thead>\n",
              "    <tr style=\"text-align: right;\">\n",
              "      <th></th>\n",
              "      <th>Data</th>\n",
              "      <th>Fratura_femur</th>\n",
              "    </tr>\n",
              "  </thead>\n",
              "  <tbody>\n",
              "    <tr>\n",
              "      <th>139</th>\n",
              "      <td>2019-08-01</td>\n",
              "      <td>6069</td>\n",
              "    </tr>\n",
              "    <tr>\n",
              "      <th>140</th>\n",
              "      <td>2019-09-01</td>\n",
              "      <td>5665</td>\n",
              "    </tr>\n",
              "    <tr>\n",
              "      <th>141</th>\n",
              "      <td>2019-10-01</td>\n",
              "      <td>5689</td>\n",
              "    </tr>\n",
              "    <tr>\n",
              "      <th>142</th>\n",
              "      <td>2019-11-01</td>\n",
              "      <td>5118</td>\n",
              "    </tr>\n",
              "    <tr>\n",
              "      <th>143</th>\n",
              "      <td>2019-12-01</td>\n",
              "      <td>5006</td>\n",
              "    </tr>\n",
              "  </tbody>\n",
              "</table>\n",
              "</div>"
            ],
            "text/plain": [
              "          Data  Fratura_femur\n",
              "139 2019-08-01           6069\n",
              "140 2019-09-01           5665\n",
              "141 2019-10-01           5689\n",
              "142 2019-11-01           5118\n",
              "143 2019-12-01           5006"
            ]
          },
          "metadata": {
            "tags": []
          },
          "execution_count": 4
        }
      ]
    },
    {
      "cell_type": "code",
      "metadata": {
        "id": "FbnpUrhwjfAI",
        "colab": {
          "base_uri": "https://localhost:8080/"
        },
        "outputId": "03dca575-42eb-43e2-836c-cb87f877feee"
      },
      "source": [
        "# Verificação dos tipos de dados\n",
        "df.dtypes"
      ],
      "execution_count": null,
      "outputs": [
        {
          "output_type": "execute_result",
          "data": {
            "text/plain": [
              "Data             datetime64[ns]\n",
              "Fratura_femur             int64\n",
              "dtype: object"
            ]
          },
          "metadata": {
            "tags": []
          },
          "execution_count": 5
        }
      ]
    },
    {
      "cell_type": "code",
      "metadata": {
        "id": "hN7ZyT5AjoiB",
        "colab": {
          "base_uri": "https://localhost:8080/",
          "height": 197
        },
        "outputId": "2146d0be-67c2-47c7-a3be-b17094617bd2"
      },
      "source": [
        "# Renomeando as colunas, conforme requisitado pela biblioteca Prophet, e visualização das cinco primeiras linhas\n",
        "df.columns = [\"ds\",\"y\"]\n",
        "df.head()"
      ],
      "execution_count": null,
      "outputs": [
        {
          "output_type": "execute_result",
          "data": {
            "text/html": [
              "<div>\n",
              "<style scoped>\n",
              "    .dataframe tbody tr th:only-of-type {\n",
              "        vertical-align: middle;\n",
              "    }\n",
              "\n",
              "    .dataframe tbody tr th {\n",
              "        vertical-align: top;\n",
              "    }\n",
              "\n",
              "    .dataframe thead th {\n",
              "        text-align: right;\n",
              "    }\n",
              "</style>\n",
              "<table border=\"1\" class=\"dataframe\">\n",
              "  <thead>\n",
              "    <tr style=\"text-align: right;\">\n",
              "      <th></th>\n",
              "      <th>ds</th>\n",
              "      <th>y</th>\n",
              "    </tr>\n",
              "  </thead>\n",
              "  <tbody>\n",
              "    <tr>\n",
              "      <th>0</th>\n",
              "      <td>2008-01-01</td>\n",
              "      <td>1505</td>\n",
              "    </tr>\n",
              "    <tr>\n",
              "      <th>1</th>\n",
              "      <td>2008-02-01</td>\n",
              "      <td>2424</td>\n",
              "    </tr>\n",
              "    <tr>\n",
              "      <th>2</th>\n",
              "      <td>2008-03-01</td>\n",
              "      <td>2499</td>\n",
              "    </tr>\n",
              "    <tr>\n",
              "      <th>3</th>\n",
              "      <td>2008-04-01</td>\n",
              "      <td>2440</td>\n",
              "    </tr>\n",
              "    <tr>\n",
              "      <th>4</th>\n",
              "      <td>2008-05-01</td>\n",
              "      <td>2739</td>\n",
              "    </tr>\n",
              "  </tbody>\n",
              "</table>\n",
              "</div>"
            ],
            "text/plain": [
              "          ds     y\n",
              "0 2008-01-01  1505\n",
              "1 2008-02-01  2424\n",
              "2 2008-03-01  2499\n",
              "3 2008-04-01  2440\n",
              "4 2008-05-01  2739"
            ]
          },
          "metadata": {
            "tags": []
          },
          "execution_count": 6
        }
      ]
    },
    {
      "cell_type": "code",
      "metadata": {
        "colab": {
          "base_uri": "https://localhost:8080/",
          "height": 197
        },
        "id": "Kjmxevn8tLq3",
        "outputId": "2a111dfa-5e98-4932-90ad-9091308d3838"
      },
      "source": [
        "df.head()"
      ],
      "execution_count": null,
      "outputs": [
        {
          "output_type": "execute_result",
          "data": {
            "text/html": [
              "<div>\n",
              "<style scoped>\n",
              "    .dataframe tbody tr th:only-of-type {\n",
              "        vertical-align: middle;\n",
              "    }\n",
              "\n",
              "    .dataframe tbody tr th {\n",
              "        vertical-align: top;\n",
              "    }\n",
              "\n",
              "    .dataframe thead th {\n",
              "        text-align: right;\n",
              "    }\n",
              "</style>\n",
              "<table border=\"1\" class=\"dataframe\">\n",
              "  <thead>\n",
              "    <tr style=\"text-align: right;\">\n",
              "      <th></th>\n",
              "      <th>ds</th>\n",
              "      <th>y</th>\n",
              "    </tr>\n",
              "  </thead>\n",
              "  <tbody>\n",
              "    <tr>\n",
              "      <th>0</th>\n",
              "      <td>2008-01-01</td>\n",
              "      <td>1505</td>\n",
              "    </tr>\n",
              "    <tr>\n",
              "      <th>1</th>\n",
              "      <td>2008-02-01</td>\n",
              "      <td>2424</td>\n",
              "    </tr>\n",
              "    <tr>\n",
              "      <th>2</th>\n",
              "      <td>2008-03-01</td>\n",
              "      <td>2499</td>\n",
              "    </tr>\n",
              "    <tr>\n",
              "      <th>3</th>\n",
              "      <td>2008-04-01</td>\n",
              "      <td>2440</td>\n",
              "    </tr>\n",
              "    <tr>\n",
              "      <th>4</th>\n",
              "      <td>2008-05-01</td>\n",
              "      <td>2739</td>\n",
              "    </tr>\n",
              "  </tbody>\n",
              "</table>\n",
              "</div>"
            ],
            "text/plain": [
              "          ds     y\n",
              "0 2008-01-01  1505\n",
              "1 2008-02-01  2424\n",
              "2 2008-03-01  2499\n",
              "3 2008-04-01  2440\n",
              "4 2008-05-01  2739"
            ]
          },
          "metadata": {
            "tags": []
          },
          "execution_count": 7
        }
      ]
    },
    {
      "cell_type": "markdown",
      "metadata": {
        "id": "SC6P5ZFBR5JS"
      },
      "source": [
        "## **Modelo Preditivo - Prophet**"
      ]
    },
    {
      "cell_type": "code",
      "metadata": {
        "id": "qSWvaBeVtQmO"
      },
      "source": [
        "from fbprophet import Prophet"
      ],
      "execution_count": null,
      "outputs": []
    },
    {
      "cell_type": "code",
      "metadata": {
        "id": "VHv7_-thkj17"
      },
      "source": [
        "model = Prophet()"
      ],
      "execution_count": null,
      "outputs": []
    },
    {
      "cell_type": "code",
      "metadata": {
        "id": "EvhLlYYLkqLi",
        "colab": {
          "base_uri": "https://localhost:8080/"
        },
        "outputId": "65937a9a-98cd-4c7b-8ae0-b4e6c4c62fa3"
      },
      "source": [
        "# Ajuste do modelo\n",
        "model.fit(df)"
      ],
      "execution_count": null,
      "outputs": [
        {
          "output_type": "stream",
          "text": [
            "INFO:numexpr.utils:NumExpr defaulting to 2 threads.\n",
            "INFO:fbprophet:Disabling weekly seasonality. Run prophet with weekly_seasonality=True to override this.\n",
            "INFO:fbprophet:Disabling daily seasonality. Run prophet with daily_seasonality=True to override this.\n"
          ],
          "name": "stderr"
        },
        {
          "output_type": "execute_result",
          "data": {
            "text/plain": [
              "<fbprophet.forecaster.Prophet at 0x7f201ea76438>"
            ]
          },
          "metadata": {
            "tags": []
          },
          "execution_count": 10
        }
      ]
    },
    {
      "cell_type": "code",
      "metadata": {
        "colab": {
          "base_uri": "https://localhost:8080/"
        },
        "id": "Ix3Fjb81opzH",
        "outputId": "f8c5ec70-9cb9-4687-aa80-d5895b03bf4a"
      },
      "source": [
        "model"
      ],
      "execution_count": null,
      "outputs": [
        {
          "output_type": "execute_result",
          "data": {
            "text/plain": [
              "<fbprophet.forecaster.Prophet at 0x7f201ea76438>"
            ]
          },
          "metadata": {
            "tags": []
          },
          "execution_count": 11
        }
      ]
    },
    {
      "cell_type": "code",
      "metadata": {
        "id": "_iNliXn6kx8h"
      },
      "source": [
        "# Criando datas futuras para previsões em um dataframe\n",
        "future = model.make_future_dataframe(periods = 24, freq='M')"
      ],
      "execution_count": null,
      "outputs": []
    },
    {
      "cell_type": "code",
      "metadata": {
        "id": "kSVhwxGPlMhW",
        "colab": {
          "base_uri": "https://localhost:8080/",
          "height": 197
        },
        "outputId": "0d5231c7-ccc7-44ed-92a3-4400d3a2402c"
      },
      "source": [
        "# Visualização das cinco últimas linhas - última da da previsão é Dezembro de 2021\n",
        "future.tail()"
      ],
      "execution_count": null,
      "outputs": [
        {
          "output_type": "execute_result",
          "data": {
            "text/html": [
              "<div>\n",
              "<style scoped>\n",
              "    .dataframe tbody tr th:only-of-type {\n",
              "        vertical-align: middle;\n",
              "    }\n",
              "\n",
              "    .dataframe tbody tr th {\n",
              "        vertical-align: top;\n",
              "    }\n",
              "\n",
              "    .dataframe thead th {\n",
              "        text-align: right;\n",
              "    }\n",
              "</style>\n",
              "<table border=\"1\" class=\"dataframe\">\n",
              "  <thead>\n",
              "    <tr style=\"text-align: right;\">\n",
              "      <th></th>\n",
              "      <th>ds</th>\n",
              "    </tr>\n",
              "  </thead>\n",
              "  <tbody>\n",
              "    <tr>\n",
              "      <th>163</th>\n",
              "      <td>2021-07-31</td>\n",
              "    </tr>\n",
              "    <tr>\n",
              "      <th>164</th>\n",
              "      <td>2021-08-31</td>\n",
              "    </tr>\n",
              "    <tr>\n",
              "      <th>165</th>\n",
              "      <td>2021-09-30</td>\n",
              "    </tr>\n",
              "    <tr>\n",
              "      <th>166</th>\n",
              "      <td>2021-10-31</td>\n",
              "    </tr>\n",
              "    <tr>\n",
              "      <th>167</th>\n",
              "      <td>2021-11-30</td>\n",
              "    </tr>\n",
              "  </tbody>\n",
              "</table>\n",
              "</div>"
            ],
            "text/plain": [
              "            ds\n",
              "163 2021-07-31\n",
              "164 2021-08-31\n",
              "165 2021-09-30\n",
              "166 2021-10-31\n",
              "167 2021-11-30"
            ]
          },
          "metadata": {
            "tags": []
          },
          "execution_count": 13
        }
      ]
    },
    {
      "cell_type": "code",
      "metadata": {
        "id": "UPfdjI6MlWNh"
      },
      "source": [
        "# Previsão dos dados \n",
        "pred = model.predict(future)"
      ],
      "execution_count": null,
      "outputs": []
    },
    {
      "cell_type": "code",
      "metadata": {
        "id": "HtZNiR0jlgPk",
        "colab": {
          "base_uri": "https://localhost:8080/",
          "height": 593
        },
        "outputId": "05bbac34-ff56-4cc9-d3b8-26ee0f96e7ae"
      },
      "source": [
        "# Visualização dos dados gerados pelo modelo\n",
        "pred"
      ],
      "execution_count": null,
      "outputs": [
        {
          "output_type": "execute_result",
          "data": {
            "text/html": [
              "<div>\n",
              "<style scoped>\n",
              "    .dataframe tbody tr th:only-of-type {\n",
              "        vertical-align: middle;\n",
              "    }\n",
              "\n",
              "    .dataframe tbody tr th {\n",
              "        vertical-align: top;\n",
              "    }\n",
              "\n",
              "    .dataframe thead th {\n",
              "        text-align: right;\n",
              "    }\n",
              "</style>\n",
              "<table border=\"1\" class=\"dataframe\">\n",
              "  <thead>\n",
              "    <tr style=\"text-align: right;\">\n",
              "      <th></th>\n",
              "      <th>ds</th>\n",
              "      <th>trend</th>\n",
              "      <th>yhat_lower</th>\n",
              "      <th>yhat_upper</th>\n",
              "      <th>trend_lower</th>\n",
              "      <th>trend_upper</th>\n",
              "      <th>additive_terms</th>\n",
              "      <th>additive_terms_lower</th>\n",
              "      <th>additive_terms_upper</th>\n",
              "      <th>yearly</th>\n",
              "      <th>yearly_lower</th>\n",
              "      <th>yearly_upper</th>\n",
              "      <th>multiplicative_terms</th>\n",
              "      <th>multiplicative_terms_lower</th>\n",
              "      <th>multiplicative_terms_upper</th>\n",
              "      <th>yhat</th>\n",
              "    </tr>\n",
              "  </thead>\n",
              "  <tbody>\n",
              "    <tr>\n",
              "      <th>0</th>\n",
              "      <td>2008-01-01</td>\n",
              "      <td>2688.117036</td>\n",
              "      <td>2135.016106</td>\n",
              "      <td>2495.181981</td>\n",
              "      <td>2688.117036</td>\n",
              "      <td>2688.117036</td>\n",
              "      <td>-373.509787</td>\n",
              "      <td>-373.509787</td>\n",
              "      <td>-373.509787</td>\n",
              "      <td>-373.509787</td>\n",
              "      <td>-373.509787</td>\n",
              "      <td>-373.509787</td>\n",
              "      <td>0.0</td>\n",
              "      <td>0.0</td>\n",
              "      <td>0.0</td>\n",
              "      <td>2314.607250</td>\n",
              "    </tr>\n",
              "    <tr>\n",
              "      <th>1</th>\n",
              "      <td>2008-02-01</td>\n",
              "      <td>2704.312586</td>\n",
              "      <td>2189.305716</td>\n",
              "      <td>2550.814053</td>\n",
              "      <td>2704.312586</td>\n",
              "      <td>2704.312586</td>\n",
              "      <td>-341.501203</td>\n",
              "      <td>-341.501203</td>\n",
              "      <td>-341.501203</td>\n",
              "      <td>-341.501203</td>\n",
              "      <td>-341.501203</td>\n",
              "      <td>-341.501203</td>\n",
              "      <td>0.0</td>\n",
              "      <td>0.0</td>\n",
              "      <td>0.0</td>\n",
              "      <td>2362.811383</td>\n",
              "    </tr>\n",
              "    <tr>\n",
              "      <th>2</th>\n",
              "      <td>2008-03-01</td>\n",
              "      <td>2719.463261</td>\n",
              "      <td>2246.190530</td>\n",
              "      <td>2626.006274</td>\n",
              "      <td>2719.463261</td>\n",
              "      <td>2719.463261</td>\n",
              "      <td>-272.530122</td>\n",
              "      <td>-272.530122</td>\n",
              "      <td>-272.530122</td>\n",
              "      <td>-272.530122</td>\n",
              "      <td>-272.530122</td>\n",
              "      <td>-272.530122</td>\n",
              "      <td>0.0</td>\n",
              "      <td>0.0</td>\n",
              "      <td>0.0</td>\n",
              "      <td>2446.933139</td>\n",
              "    </tr>\n",
              "    <tr>\n",
              "      <th>3</th>\n",
              "      <td>2008-04-01</td>\n",
              "      <td>2735.658811</td>\n",
              "      <td>2198.672111</td>\n",
              "      <td>2587.443406</td>\n",
              "      <td>2735.658811</td>\n",
              "      <td>2735.658811</td>\n",
              "      <td>-335.455536</td>\n",
              "      <td>-335.455536</td>\n",
              "      <td>-335.455536</td>\n",
              "      <td>-335.455536</td>\n",
              "      <td>-335.455536</td>\n",
              "      <td>-335.455536</td>\n",
              "      <td>0.0</td>\n",
              "      <td>0.0</td>\n",
              "      <td>0.0</td>\n",
              "      <td>2400.203275</td>\n",
              "    </tr>\n",
              "    <tr>\n",
              "      <th>4</th>\n",
              "      <td>2008-05-01</td>\n",
              "      <td>2751.331923</td>\n",
              "      <td>2552.031767</td>\n",
              "      <td>2922.311793</td>\n",
              "      <td>2751.331923</td>\n",
              "      <td>2751.331923</td>\n",
              "      <td>-17.905048</td>\n",
              "      <td>-17.905048</td>\n",
              "      <td>-17.905048</td>\n",
              "      <td>-17.905048</td>\n",
              "      <td>-17.905048</td>\n",
              "      <td>-17.905048</td>\n",
              "      <td>0.0</td>\n",
              "      <td>0.0</td>\n",
              "      <td>0.0</td>\n",
              "      <td>2733.426875</td>\n",
              "    </tr>\n",
              "    <tr>\n",
              "      <th>...</th>\n",
              "      <td>...</td>\n",
              "      <td>...</td>\n",
              "      <td>...</td>\n",
              "      <td>...</td>\n",
              "      <td>...</td>\n",
              "      <td>...</td>\n",
              "      <td>...</td>\n",
              "      <td>...</td>\n",
              "      <td>...</td>\n",
              "      <td>...</td>\n",
              "      <td>...</td>\n",
              "      <td>...</td>\n",
              "      <td>...</td>\n",
              "      <td>...</td>\n",
              "      <td>...</td>\n",
              "      <td>...</td>\n",
              "    </tr>\n",
              "    <tr>\n",
              "      <th>163</th>\n",
              "      <td>2021-07-31</td>\n",
              "      <td>5877.475599</td>\n",
              "      <td>6202.384725</td>\n",
              "      <td>6577.185996</td>\n",
              "      <td>5845.028759</td>\n",
              "      <td>5907.770707</td>\n",
              "      <td>508.849396</td>\n",
              "      <td>508.849396</td>\n",
              "      <td>508.849396</td>\n",
              "      <td>508.849396</td>\n",
              "      <td>508.849396</td>\n",
              "      <td>508.849396</td>\n",
              "      <td>0.0</td>\n",
              "      <td>0.0</td>\n",
              "      <td>0.0</td>\n",
              "      <td>6386.324995</td>\n",
              "    </tr>\n",
              "    <tr>\n",
              "      <th>164</th>\n",
              "      <td>2021-08-31</td>\n",
              "      <td>5903.783088</td>\n",
              "      <td>6062.659570</td>\n",
              "      <td>6447.104920</td>\n",
              "      <td>5868.988540</td>\n",
              "      <td>5936.096147</td>\n",
              "      <td>356.545748</td>\n",
              "      <td>356.545748</td>\n",
              "      <td>356.545748</td>\n",
              "      <td>356.545748</td>\n",
              "      <td>356.545748</td>\n",
              "      <td>356.545748</td>\n",
              "      <td>0.0</td>\n",
              "      <td>0.0</td>\n",
              "      <td>0.0</td>\n",
              "      <td>6260.328836</td>\n",
              "    </tr>\n",
              "    <tr>\n",
              "      <th>165</th>\n",
              "      <td>2021-09-30</td>\n",
              "      <td>5929.241949</td>\n",
              "      <td>5950.718846</td>\n",
              "      <td>6336.350005</td>\n",
              "      <td>5891.420263</td>\n",
              "      <td>5963.751993</td>\n",
              "      <td>209.879672</td>\n",
              "      <td>209.879672</td>\n",
              "      <td>209.879672</td>\n",
              "      <td>209.879672</td>\n",
              "      <td>209.879672</td>\n",
              "      <td>209.879672</td>\n",
              "      <td>0.0</td>\n",
              "      <td>0.0</td>\n",
              "      <td>0.0</td>\n",
              "      <td>6139.121621</td>\n",
              "    </tr>\n",
              "    <tr>\n",
              "      <th>166</th>\n",
              "      <td>2021-10-31</td>\n",
              "      <td>5955.549438</td>\n",
              "      <td>5665.736600</td>\n",
              "      <td>6036.024422</td>\n",
              "      <td>5915.769745</td>\n",
              "      <td>5992.985620</td>\n",
              "      <td>-94.948464</td>\n",
              "      <td>-94.948464</td>\n",
              "      <td>-94.948464</td>\n",
              "      <td>-94.948464</td>\n",
              "      <td>-94.948464</td>\n",
              "      <td>-94.948464</td>\n",
              "      <td>0.0</td>\n",
              "      <td>0.0</td>\n",
              "      <td>0.0</td>\n",
              "      <td>5860.600974</td>\n",
              "    </tr>\n",
              "    <tr>\n",
              "      <th>167</th>\n",
              "      <td>2021-11-30</td>\n",
              "      <td>5981.008298</td>\n",
              "      <td>5546.686614</td>\n",
              "      <td>5932.288014</td>\n",
              "      <td>5938.368321</td>\n",
              "      <td>6020.827094</td>\n",
              "      <td>-249.122552</td>\n",
              "      <td>-249.122552</td>\n",
              "      <td>-249.122552</td>\n",
              "      <td>-249.122552</td>\n",
              "      <td>-249.122552</td>\n",
              "      <td>-249.122552</td>\n",
              "      <td>0.0</td>\n",
              "      <td>0.0</td>\n",
              "      <td>0.0</td>\n",
              "      <td>5731.885746</td>\n",
              "    </tr>\n",
              "  </tbody>\n",
              "</table>\n",
              "<p>168 rows × 16 columns</p>\n",
              "</div>"
            ],
            "text/plain": [
              "            ds        trend  ...  multiplicative_terms_upper         yhat\n",
              "0   2008-01-01  2688.117036  ...                         0.0  2314.607250\n",
              "1   2008-02-01  2704.312586  ...                         0.0  2362.811383\n",
              "2   2008-03-01  2719.463261  ...                         0.0  2446.933139\n",
              "3   2008-04-01  2735.658811  ...                         0.0  2400.203275\n",
              "4   2008-05-01  2751.331923  ...                         0.0  2733.426875\n",
              "..         ...          ...  ...                         ...          ...\n",
              "163 2021-07-31  5877.475599  ...                         0.0  6386.324995\n",
              "164 2021-08-31  5903.783088  ...                         0.0  6260.328836\n",
              "165 2021-09-30  5929.241949  ...                         0.0  6139.121621\n",
              "166 2021-10-31  5955.549438  ...                         0.0  5860.600974\n",
              "167 2021-11-30  5981.008298  ...                         0.0  5731.885746\n",
              "\n",
              "[168 rows x 16 columns]"
            ]
          },
          "metadata": {
            "tags": []
          },
          "execution_count": 15
        }
      ]
    },
    {
      "cell_type": "code",
      "metadata": {
        "id": "iLBA3PuelkPs",
        "colab": {
          "base_uri": "https://localhost:8080/",
          "height": 197
        },
        "outputId": "9f7ee1ba-8839-432c-c745-fb3478f511d2"
      },
      "source": [
        "# Visulaização das cinco primeiras linhas dos dados ds (data), yhat (previsão do modelo), yhat_lower e yhta_uooer (valores previstos para os intervalos de incerteza)\n",
        "pred[[\"ds\",\"yhat\",\"yhat_lower\",\"yhat_upper\"]].head()"
      ],
      "execution_count": null,
      "outputs": [
        {
          "output_type": "execute_result",
          "data": {
            "text/html": [
              "<div>\n",
              "<style scoped>\n",
              "    .dataframe tbody tr th:only-of-type {\n",
              "        vertical-align: middle;\n",
              "    }\n",
              "\n",
              "    .dataframe tbody tr th {\n",
              "        vertical-align: top;\n",
              "    }\n",
              "\n",
              "    .dataframe thead th {\n",
              "        text-align: right;\n",
              "    }\n",
              "</style>\n",
              "<table border=\"1\" class=\"dataframe\">\n",
              "  <thead>\n",
              "    <tr style=\"text-align: right;\">\n",
              "      <th></th>\n",
              "      <th>ds</th>\n",
              "      <th>yhat</th>\n",
              "      <th>yhat_lower</th>\n",
              "      <th>yhat_upper</th>\n",
              "    </tr>\n",
              "  </thead>\n",
              "  <tbody>\n",
              "    <tr>\n",
              "      <th>0</th>\n",
              "      <td>2008-01-01</td>\n",
              "      <td>2314.607250</td>\n",
              "      <td>2135.016106</td>\n",
              "      <td>2495.181981</td>\n",
              "    </tr>\n",
              "    <tr>\n",
              "      <th>1</th>\n",
              "      <td>2008-02-01</td>\n",
              "      <td>2362.811383</td>\n",
              "      <td>2189.305716</td>\n",
              "      <td>2550.814053</td>\n",
              "    </tr>\n",
              "    <tr>\n",
              "      <th>2</th>\n",
              "      <td>2008-03-01</td>\n",
              "      <td>2446.933139</td>\n",
              "      <td>2246.190530</td>\n",
              "      <td>2626.006274</td>\n",
              "    </tr>\n",
              "    <tr>\n",
              "      <th>3</th>\n",
              "      <td>2008-04-01</td>\n",
              "      <td>2400.203275</td>\n",
              "      <td>2198.672111</td>\n",
              "      <td>2587.443406</td>\n",
              "    </tr>\n",
              "    <tr>\n",
              "      <th>4</th>\n",
              "      <td>2008-05-01</td>\n",
              "      <td>2733.426875</td>\n",
              "      <td>2552.031767</td>\n",
              "      <td>2922.311793</td>\n",
              "    </tr>\n",
              "  </tbody>\n",
              "</table>\n",
              "</div>"
            ],
            "text/plain": [
              "          ds         yhat   yhat_lower   yhat_upper\n",
              "0 2008-01-01  2314.607250  2135.016106  2495.181981\n",
              "1 2008-02-01  2362.811383  2189.305716  2550.814053\n",
              "2 2008-03-01  2446.933139  2246.190530  2626.006274\n",
              "3 2008-04-01  2400.203275  2198.672111  2587.443406\n",
              "4 2008-05-01  2733.426875  2552.031767  2922.311793"
            ]
          },
          "metadata": {
            "tags": []
          },
          "execution_count": 16
        }
      ]
    },
    {
      "cell_type": "code",
      "metadata": {
        "colab": {
          "base_uri": "https://localhost:8080/",
          "height": 377
        },
        "id": "wV0UsD37WhoL",
        "outputId": "baccfa72-0268-4584-ac99-01cd1c2b24c0"
      },
      "source": [
        "# Visulaização das cinco últimas linhas dos dados ds (data), yhat (previsão do modelo), yhat_lower e yhta_uooer (valores previstos para os intervalos de incerteza)\n",
        "pred[[\"ds\",\"yhat\",\"yhat_lower\",\"yhat_upper\"]].tail(11)"
      ],
      "execution_count": null,
      "outputs": [
        {
          "output_type": "execute_result",
          "data": {
            "text/html": [
              "<div>\n",
              "<style scoped>\n",
              "    .dataframe tbody tr th:only-of-type {\n",
              "        vertical-align: middle;\n",
              "    }\n",
              "\n",
              "    .dataframe tbody tr th {\n",
              "        vertical-align: top;\n",
              "    }\n",
              "\n",
              "    .dataframe thead th {\n",
              "        text-align: right;\n",
              "    }\n",
              "</style>\n",
              "<table border=\"1\" class=\"dataframe\">\n",
              "  <thead>\n",
              "    <tr style=\"text-align: right;\">\n",
              "      <th></th>\n",
              "      <th>ds</th>\n",
              "      <th>yhat</th>\n",
              "      <th>yhat_lower</th>\n",
              "      <th>yhat_upper</th>\n",
              "    </tr>\n",
              "  </thead>\n",
              "  <tbody>\n",
              "    <tr>\n",
              "      <th>157</th>\n",
              "      <td>2021-01-31</td>\n",
              "      <td>5438.336031</td>\n",
              "      <td>5242.685451</td>\n",
              "      <td>5622.485738</td>\n",
              "    </tr>\n",
              "    <tr>\n",
              "      <th>158</th>\n",
              "      <td>2021-02-28</td>\n",
              "      <td>5476.917064</td>\n",
              "      <td>5283.184274</td>\n",
              "      <td>5656.632562</td>\n",
              "    </tr>\n",
              "    <tr>\n",
              "      <th>159</th>\n",
              "      <td>2021-03-31</td>\n",
              "      <td>5526.727452</td>\n",
              "      <td>5350.761403</td>\n",
              "      <td>5711.074563</td>\n",
              "    </tr>\n",
              "    <tr>\n",
              "      <th>160</th>\n",
              "      <td>2021-04-30</td>\n",
              "      <td>5860.164635</td>\n",
              "      <td>5671.227297</td>\n",
              "      <td>6045.274236</td>\n",
              "    </tr>\n",
              "    <tr>\n",
              "      <th>161</th>\n",
              "      <td>2021-05-31</td>\n",
              "      <td>5724.654548</td>\n",
              "      <td>5530.354585</td>\n",
              "      <td>5931.090071</td>\n",
              "    </tr>\n",
              "    <tr>\n",
              "      <th>162</th>\n",
              "      <td>2021-06-30</td>\n",
              "      <td>6332.064302</td>\n",
              "      <td>6140.070727</td>\n",
              "      <td>6533.832248</td>\n",
              "    </tr>\n",
              "    <tr>\n",
              "      <th>163</th>\n",
              "      <td>2021-07-31</td>\n",
              "      <td>6386.324995</td>\n",
              "      <td>6202.384725</td>\n",
              "      <td>6577.185996</td>\n",
              "    </tr>\n",
              "    <tr>\n",
              "      <th>164</th>\n",
              "      <td>2021-08-31</td>\n",
              "      <td>6260.328836</td>\n",
              "      <td>6062.659570</td>\n",
              "      <td>6447.104920</td>\n",
              "    </tr>\n",
              "    <tr>\n",
              "      <th>165</th>\n",
              "      <td>2021-09-30</td>\n",
              "      <td>6139.121621</td>\n",
              "      <td>5950.718846</td>\n",
              "      <td>6336.350005</td>\n",
              "    </tr>\n",
              "    <tr>\n",
              "      <th>166</th>\n",
              "      <td>2021-10-31</td>\n",
              "      <td>5860.600974</td>\n",
              "      <td>5665.736600</td>\n",
              "      <td>6036.024422</td>\n",
              "    </tr>\n",
              "    <tr>\n",
              "      <th>167</th>\n",
              "      <td>2021-11-30</td>\n",
              "      <td>5731.885746</td>\n",
              "      <td>5546.686614</td>\n",
              "      <td>5932.288014</td>\n",
              "    </tr>\n",
              "  </tbody>\n",
              "</table>\n",
              "</div>"
            ],
            "text/plain": [
              "            ds         yhat   yhat_lower   yhat_upper\n",
              "157 2021-01-31  5438.336031  5242.685451  5622.485738\n",
              "158 2021-02-28  5476.917064  5283.184274  5656.632562\n",
              "159 2021-03-31  5526.727452  5350.761403  5711.074563\n",
              "160 2021-04-30  5860.164635  5671.227297  6045.274236\n",
              "161 2021-05-31  5724.654548  5530.354585  5931.090071\n",
              "162 2021-06-30  6332.064302  6140.070727  6533.832248\n",
              "163 2021-07-31  6386.324995  6202.384725  6577.185996\n",
              "164 2021-08-31  6260.328836  6062.659570  6447.104920\n",
              "165 2021-09-30  6139.121621  5950.718846  6336.350005\n",
              "166 2021-10-31  5860.600974  5665.736600  6036.024422\n",
              "167 2021-11-30  5731.885746  5546.686614  5932.288014"
            ]
          },
          "metadata": {
            "tags": []
          },
          "execution_count": 17
        }
      ]
    },
    {
      "cell_type": "markdown",
      "metadata": {
        "id": "UmEJzmhPWn9-"
      },
      "source": [
        "## **Análise gráfica do modelo de previsão**"
      ]
    },
    {
      "cell_type": "code",
      "metadata": {
        "colab": {
          "base_uri": "https://localhost:8080/",
          "height": 441
        },
        "id": "4wWprQoTyHN-",
        "outputId": "ebd48a52-2162-4874-d8ec-4fa7646cc898"
      },
      "source": [
        "#Visualização gráfica dos dados - Período de 2008 a 2021\n",
        "ax = model.plot(pred);"
      ],
      "execution_count": null,
      "outputs": [
        {
          "output_type": "display_data",
          "data": {
            "image/png": "[encoded data removed]",
            "text/plain": [
              "<Figure size 720x432 with 1 Axes>"
            ]
          },
          "metadata": {
            "tags": []
          }
        }
      ]
    },
    {
      "cell_type": "code",
      "metadata": {
        "id": "5DHGI9N7m_K0",
        "colab": {
          "base_uri": "https://localhost:8080/",
          "height": 441
        },
        "outputId": "44e836d4-4897-4379-ff48-cde439118814"
      },
      "source": [
        "#visualizacao de cada componente do modelo previsto. Trend é a tendências e yearly a sazonalidade\n",
        "model.plot_components(pred);"
      ],
      "execution_count": null,
      "outputs": [
        {
          "output_type": "display_data",
          "data": {
            "image/png": "[encoded data removed]",
            "text/plain": [
              "<Figure size 648x432 with 2 Axes>"
            ]
          },
          "metadata": {
            "tags": []
          }
        }
      ]
    },
    {
      "cell_type": "markdown",
      "metadata": {
        "id": "kfbbdksE0Bbr"
      },
      "source": [
        "Conforme observado nos gráficos acima, há uma tendência de crescimento no número de fraturas do fêmurque poderá ocorrer com os idosos, podendo afetar quase 65 mil pessoas ao longo do ano de 2021, com média de 5,9 mil quedas por mês.\n",
        "\n",
        "Vale ressaltar que o perfil de ocorrência da fratura do fêmur tem estreita semelhança com o perfil de quedas de idosos, indicativo de que a ocorrência dessa morbidade está relação ao evento adverso da queda."
      ]
    }
  ]
}