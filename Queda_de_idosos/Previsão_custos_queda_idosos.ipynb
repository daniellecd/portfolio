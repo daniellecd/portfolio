{
  "nbformat": 4,
  "nbformat_minor": 0,
  "metadata": {
    "colab": {
      "name": "Previsão_custos_queda_idosos.ipynb",
      "provenance": [],
      "collapsed_sections": [],
      "include_colab_link": true
    },
    "kernelspec": {
      "name": "python3",
      "display_name": "Python 3"
    }
  },
  "cells": [
    {
      "cell_type": "markdown",
      "metadata": {
        "id": "view-in-github",
        "colab_type": "text"
      },
      "source": [
        "<a href=\"https://colab.research.google.com/github/daniellecd/portfolio/blob/master/Queda_de_idosos/Previs%C3%A3o_custos_queda_idosos.ipynb\" target=\"_parent\"><img src=\"https://colab.research.google.com/assets/colab-badge.svg\" alt=\"Open In Colab\"/></a>"
      ]
    },
    {
      "cell_type": "markdown",
      "metadata": {
        "id": "KTxswHG7I7gs"
      },
      "source": [
        "# **Previsão do custo relativo à queda de idosos**\n",
        "\n",
        "\n"
      ]
    },
    {
      "cell_type": "markdown",
      "metadata": {
        "id": "ejUb5ErgIawY"
      },
      "source": [
        "## **Instalação dos pacotes necessários**"
      ]
    },
    {
      "cell_type": "code",
      "metadata": {
        "id": "1XTvBaQSidcN",
        "colab": {
          "base_uri": "https://localhost:8080/"
        },
        "outputId": "a5c84991-4d44-4d20-c3d5-6a32eec90c0a"
      },
      "source": [
        "#Instalação dos pacotes necessárias\n",
        "!pip install pystan\n",
        "!pip install fbprophet"
      ],
      "execution_count": null,
      "outputs": [
        {
          "output_type": "stream",
          "text": [
            "Requirement already satisfied: pystan in /usr/local/lib/python3.6/dist-packages (2.19.1.1)\n",
            "Requirement already satisfied: numpy>=1.7 in /usr/local/lib/python3.6/dist-packages (from pystan) (1.18.5)\n",
            "Requirement already satisfied: Cython!=0.25.1,>=0.22 in /usr/local/lib/python3.6/dist-packages (from pystan) (0.29.21)\n",
            "Requirement already satisfied: fbprophet in /usr/local/lib/python3.6/dist-packages (0.7.1)\n",
            "Requirement already satisfied: Cython>=0.22 in /usr/local/lib/python3.6/dist-packages (from fbprophet) (0.29.21)\n",
            "Requirement already satisfied: cmdstanpy==0.9.5 in /usr/local/lib/python3.6/dist-packages (from fbprophet) (0.9.5)\n",
            "Requirement already satisfied: pystan>=2.14 in /usr/local/lib/python3.6/dist-packages (from fbprophet) (2.19.1.1)\n",
            "Requirement already satisfied: numpy>=1.15.4 in /usr/local/lib/python3.6/dist-packages (from fbprophet) (1.18.5)\n",
            "Requirement already satisfied: pandas>=1.0.4 in /usr/local/lib/python3.6/dist-packages (from fbprophet) (1.1.5)\n",
            "Requirement already satisfied: matplotlib>=2.0.0 in /usr/local/lib/python3.6/dist-packages (from fbprophet) (3.2.2)\n",
            "Requirement already satisfied: LunarCalendar>=0.0.9 in /usr/local/lib/python3.6/dist-packages (from fbprophet) (0.0.9)\n",
            "Requirement already satisfied: convertdate>=2.1.2 in /usr/local/lib/python3.6/dist-packages (from fbprophet) (2.2.0)\n",
            "Requirement already satisfied: holidays>=0.10.2 in /usr/local/lib/python3.6/dist-packages (from fbprophet) (0.10.4)\n",
            "Requirement already satisfied: setuptools-git>=1.2 in /usr/local/lib/python3.6/dist-packages (from fbprophet) (1.2)\n",
            "Requirement already satisfied: python-dateutil>=2.8.0 in /usr/local/lib/python3.6/dist-packages (from fbprophet) (2.8.1)\n",
            "Requirement already satisfied: tqdm>=4.36.1 in /usr/local/lib/python3.6/dist-packages (from fbprophet) (4.41.1)\n",
            "Requirement already satisfied: pytz>=2017.2 in /usr/local/lib/python3.6/dist-packages (from pandas>=1.0.4->fbprophet) (2018.9)\n",
            "Requirement already satisfied: pyparsing!=2.0.4,!=2.1.2,!=2.1.6,>=2.0.1 in /usr/local/lib/python3.6/dist-packages (from matplotlib>=2.0.0->fbprophet) (2.4.7)\n",
            "Requirement already satisfied: kiwisolver>=1.0.1 in /usr/local/lib/python3.6/dist-packages (from matplotlib>=2.0.0->fbprophet) (1.3.1)\n",
            "Requirement already satisfied: cycler>=0.10 in /usr/local/lib/python3.6/dist-packages (from matplotlib>=2.0.0->fbprophet) (0.10.0)\n",
            "Requirement already satisfied: ephem>=3.7.5.3 in /usr/local/lib/python3.6/dist-packages (from LunarCalendar>=0.0.9->fbprophet) (3.7.7.1)\n",
            "Requirement already satisfied: pymeeus<=1,>=0.3.6 in /usr/local/lib/python3.6/dist-packages (from convertdate>=2.1.2->fbprophet) (0.3.7)\n",
            "Requirement already satisfied: korean-lunar-calendar in /usr/local/lib/python3.6/dist-packages (from holidays>=0.10.2->fbprophet) (0.2.1)\n",
            "Requirement already satisfied: six in /usr/local/lib/python3.6/dist-packages (from holidays>=0.10.2->fbprophet) (1.15.0)\n"
          ],
          "name": "stdout"
        }
      ]
    },
    {
      "cell_type": "code",
      "metadata": {
        "id": "amSgIKZhirNT"
      },
      "source": [
        "# Importação das bibliotecas necessárias \n",
        "import pandas as pd\n",
        "import numpy as np\n",
        "\n",
        "import fbprophet\n",
        "from fbprophet import Prophet\n",
        "\n",
        "import matplotlib.pyplot as plt\n",
        "from matplotlib import rcParams\n",
        "%matplotlib inline \n",
        "\n",
        "import warnings\n",
        "warnings.filterwarnings(\"ignore\")"
      ],
      "execution_count": null,
      "outputs": []
    },
    {
      "cell_type": "markdown",
      "metadata": {
        "id": "f_ibXkvbJjwF"
      },
      "source": [
        "## **Importação dos dados**"
      ]
    },
    {
      "cell_type": "code",
      "metadata": {
        "id": "6nDo5EYYjLiA",
        "colab": {
          "base_uri": "https://localhost:8080/",
          "height": 197
        },
        "outputId": "50a6c66e-fabc-49ce-a52b-fcdfd44a667b"
      },
      "source": [
        "#Leitura do dataset e cinco primeiras linhas\n",
        "df = pd.read_excel('/content/Quedas_Idosos_Valor_Prophet.xlsx')\n",
        "df.head()"
      ],
      "execution_count": null,
      "outputs": [
        {
          "output_type": "execute_result",
          "data": {
            "text/html": [
              "<div>\n",
              "<style scoped>\n",
              "    .dataframe tbody tr th:only-of-type {\n",
              "        vertical-align: middle;\n",
              "    }\n",
              "\n",
              "    .dataframe tbody tr th {\n",
              "        vertical-align: top;\n",
              "    }\n",
              "\n",
              "    .dataframe thead th {\n",
              "        text-align: right;\n",
              "    }\n",
              "</style>\n",
              "<table border=\"1\" class=\"dataframe\">\n",
              "  <thead>\n",
              "    <tr style=\"text-align: right;\">\n",
              "      <th></th>\n",
              "      <th>Data</th>\n",
              "      <th>Custo</th>\n",
              "    </tr>\n",
              "  </thead>\n",
              "  <tbody>\n",
              "    <tr>\n",
              "      <th>0</th>\n",
              "      <td>2008-01-01</td>\n",
              "      <td>5780177</td>\n",
              "    </tr>\n",
              "    <tr>\n",
              "      <th>1</th>\n",
              "      <td>2008-02-01</td>\n",
              "      <td>5050445</td>\n",
              "    </tr>\n",
              "    <tr>\n",
              "      <th>2</th>\n",
              "      <td>2008-03-01</td>\n",
              "      <td>5795241</td>\n",
              "    </tr>\n",
              "    <tr>\n",
              "      <th>3</th>\n",
              "      <td>2008-04-01</td>\n",
              "      <td>5737648</td>\n",
              "    </tr>\n",
              "    <tr>\n",
              "      <th>4</th>\n",
              "      <td>2008-05-01</td>\n",
              "      <td>6445351</td>\n",
              "    </tr>\n",
              "  </tbody>\n",
              "</table>\n",
              "</div>"
            ],
            "text/plain": [
              "        Data    Custo\n",
              "0 2008-01-01  5780177\n",
              "1 2008-02-01  5050445\n",
              "2 2008-03-01  5795241\n",
              "3 2008-04-01  5737648\n",
              "4 2008-05-01  6445351"
            ]
          },
          "metadata": {
            "tags": []
          },
          "execution_count": 3
        }
      ]
    },
    {
      "cell_type": "code",
      "metadata": {
        "colab": {
          "base_uri": "https://localhost:8080/",
          "height": 197
        },
        "id": "0CvDGfbSmqJU",
        "outputId": "c8a9d0bd-feb5-47d3-d660-9983a5181f6d"
      },
      "source": [
        "df.tail()"
      ],
      "execution_count": null,
      "outputs": [
        {
          "output_type": "execute_result",
          "data": {
            "text/html": [
              "<div>\n",
              "<style scoped>\n",
              "    .dataframe tbody tr th:only-of-type {\n",
              "        vertical-align: middle;\n",
              "    }\n",
              "\n",
              "    .dataframe tbody tr th {\n",
              "        vertical-align: top;\n",
              "    }\n",
              "\n",
              "    .dataframe thead th {\n",
              "        text-align: right;\n",
              "    }\n",
              "</style>\n",
              "<table border=\"1\" class=\"dataframe\">\n",
              "  <thead>\n",
              "    <tr style=\"text-align: right;\">\n",
              "      <th></th>\n",
              "      <th>Data</th>\n",
              "      <th>Custo</th>\n",
              "    </tr>\n",
              "  </thead>\n",
              "  <tbody>\n",
              "    <tr>\n",
              "      <th>139</th>\n",
              "      <td>2019-08-01</td>\n",
              "      <td>19888707</td>\n",
              "    </tr>\n",
              "    <tr>\n",
              "      <th>140</th>\n",
              "      <td>2019-09-01</td>\n",
              "      <td>17755952</td>\n",
              "    </tr>\n",
              "    <tr>\n",
              "      <th>141</th>\n",
              "      <td>2019-10-01</td>\n",
              "      <td>18363819</td>\n",
              "    </tr>\n",
              "    <tr>\n",
              "      <th>142</th>\n",
              "      <td>2019-11-01</td>\n",
              "      <td>17433788</td>\n",
              "    </tr>\n",
              "    <tr>\n",
              "      <th>143</th>\n",
              "      <td>2019-12-01</td>\n",
              "      <td>17867191</td>\n",
              "    </tr>\n",
              "  </tbody>\n",
              "</table>\n",
              "</div>"
            ],
            "text/plain": [
              "          Data     Custo\n",
              "139 2019-08-01  19888707\n",
              "140 2019-09-01  17755952\n",
              "141 2019-10-01  18363819\n",
              "142 2019-11-01  17433788\n",
              "143 2019-12-01  17867191"
            ]
          },
          "metadata": {
            "tags": []
          },
          "execution_count": 4
        }
      ]
    },
    {
      "cell_type": "code",
      "metadata": {
        "id": "FbnpUrhwjfAI",
        "colab": {
          "base_uri": "https://localhost:8080/"
        },
        "outputId": "a54c1184-fb0b-43d1-8a07-e80c187e1f02"
      },
      "source": [
        "# Verificação dos tipos de dados\n",
        "df.dtypes"
      ],
      "execution_count": null,
      "outputs": [
        {
          "output_type": "execute_result",
          "data": {
            "text/plain": [
              "Data     datetime64[ns]\n",
              "Custo             int64\n",
              "dtype: object"
            ]
          },
          "metadata": {
            "tags": []
          },
          "execution_count": 5
        }
      ]
    },
    {
      "cell_type": "code",
      "metadata": {
        "id": "hN7ZyT5AjoiB",
        "colab": {
          "base_uri": "https://localhost:8080/",
          "height": 197
        },
        "outputId": "46f54066-f38a-4461-e5b5-51082b08510e"
      },
      "source": [
        "# Renomeando as colunas, conforme requisitado pela biblioteca Prophet, e visualização das cinco primeiras linhas\n",
        "df.columns = [\"ds\",\"y\"]\n",
        "df.head()"
      ],
      "execution_count": null,
      "outputs": [
        {
          "output_type": "execute_result",
          "data": {
            "text/html": [
              "<div>\n",
              "<style scoped>\n",
              "    .dataframe tbody tr th:only-of-type {\n",
              "        vertical-align: middle;\n",
              "    }\n",
              "\n",
              "    .dataframe tbody tr th {\n",
              "        vertical-align: top;\n",
              "    }\n",
              "\n",
              "    .dataframe thead th {\n",
              "        text-align: right;\n",
              "    }\n",
              "</style>\n",
              "<table border=\"1\" class=\"dataframe\">\n",
              "  <thead>\n",
              "    <tr style=\"text-align: right;\">\n",
              "      <th></th>\n",
              "      <th>ds</th>\n",
              "      <th>y</th>\n",
              "    </tr>\n",
              "  </thead>\n",
              "  <tbody>\n",
              "    <tr>\n",
              "      <th>0</th>\n",
              "      <td>2008-01-01</td>\n",
              "      <td>5780177</td>\n",
              "    </tr>\n",
              "    <tr>\n",
              "      <th>1</th>\n",
              "      <td>2008-02-01</td>\n",
              "      <td>5050445</td>\n",
              "    </tr>\n",
              "    <tr>\n",
              "      <th>2</th>\n",
              "      <td>2008-03-01</td>\n",
              "      <td>5795241</td>\n",
              "    </tr>\n",
              "    <tr>\n",
              "      <th>3</th>\n",
              "      <td>2008-04-01</td>\n",
              "      <td>5737648</td>\n",
              "    </tr>\n",
              "    <tr>\n",
              "      <th>4</th>\n",
              "      <td>2008-05-01</td>\n",
              "      <td>6445351</td>\n",
              "    </tr>\n",
              "  </tbody>\n",
              "</table>\n",
              "</div>"
            ],
            "text/plain": [
              "          ds        y\n",
              "0 2008-01-01  5780177\n",
              "1 2008-02-01  5050445\n",
              "2 2008-03-01  5795241\n",
              "3 2008-04-01  5737648\n",
              "4 2008-05-01  6445351"
            ]
          },
          "metadata": {
            "tags": []
          },
          "execution_count": 6
        }
      ]
    },
    {
      "cell_type": "code",
      "metadata": {
        "colab": {
          "base_uri": "https://localhost:8080/",
          "height": 197
        },
        "id": "Kjmxevn8tLq3",
        "outputId": "5c8b3120-c59f-47f9-cd9e-bd5bc47d0eb9"
      },
      "source": [
        "df.head()"
      ],
      "execution_count": null,
      "outputs": [
        {
          "output_type": "execute_result",
          "data": {
            "text/html": [
              "<div>\n",
              "<style scoped>\n",
              "    .dataframe tbody tr th:only-of-type {\n",
              "        vertical-align: middle;\n",
              "    }\n",
              "\n",
              "    .dataframe tbody tr th {\n",
              "        vertical-align: top;\n",
              "    }\n",
              "\n",
              "    .dataframe thead th {\n",
              "        text-align: right;\n",
              "    }\n",
              "</style>\n",
              "<table border=\"1\" class=\"dataframe\">\n",
              "  <thead>\n",
              "    <tr style=\"text-align: right;\">\n",
              "      <th></th>\n",
              "      <th>ds</th>\n",
              "      <th>y</th>\n",
              "    </tr>\n",
              "  </thead>\n",
              "  <tbody>\n",
              "    <tr>\n",
              "      <th>0</th>\n",
              "      <td>2008-01-01</td>\n",
              "      <td>5780177</td>\n",
              "    </tr>\n",
              "    <tr>\n",
              "      <th>1</th>\n",
              "      <td>2008-02-01</td>\n",
              "      <td>5050445</td>\n",
              "    </tr>\n",
              "    <tr>\n",
              "      <th>2</th>\n",
              "      <td>2008-03-01</td>\n",
              "      <td>5795241</td>\n",
              "    </tr>\n",
              "    <tr>\n",
              "      <th>3</th>\n",
              "      <td>2008-04-01</td>\n",
              "      <td>5737648</td>\n",
              "    </tr>\n",
              "    <tr>\n",
              "      <th>4</th>\n",
              "      <td>2008-05-01</td>\n",
              "      <td>6445351</td>\n",
              "    </tr>\n",
              "  </tbody>\n",
              "</table>\n",
              "</div>"
            ],
            "text/plain": [
              "          ds        y\n",
              "0 2008-01-01  5780177\n",
              "1 2008-02-01  5050445\n",
              "2 2008-03-01  5795241\n",
              "3 2008-04-01  5737648\n",
              "4 2008-05-01  6445351"
            ]
          },
          "metadata": {
            "tags": []
          },
          "execution_count": 7
        }
      ]
    },
    {
      "cell_type": "markdown",
      "metadata": {
        "id": "SC6P5ZFBR5JS"
      },
      "source": [
        "## **Modelo Preditivo - Prophet**"
      ]
    },
    {
      "cell_type": "code",
      "metadata": {
        "id": "qSWvaBeVtQmO"
      },
      "source": [
        "from fbprophet import Prophet"
      ],
      "execution_count": null,
      "outputs": []
    },
    {
      "cell_type": "code",
      "metadata": {
        "id": "VHv7_-thkj17"
      },
      "source": [
        "model = Prophet()"
      ],
      "execution_count": null,
      "outputs": []
    },
    {
      "cell_type": "code",
      "metadata": {
        "id": "EvhLlYYLkqLi",
        "colab": {
          "base_uri": "https://localhost:8080/"
        },
        "outputId": "4990de85-8beb-4c79-ddf5-5d35781f9dd8"
      },
      "source": [
        "# Ajuste do modelo\n",
        "model.fit(df)"
      ],
      "execution_count": null,
      "outputs": [
        {
          "output_type": "stream",
          "text": [
            "INFO:numexpr.utils:NumExpr defaulting to 2 threads.\n",
            "INFO:fbprophet:Disabling weekly seasonality. Run prophet with weekly_seasonality=True to override this.\n",
            "INFO:fbprophet:Disabling daily seasonality. Run prophet with daily_seasonality=True to override this.\n"
          ],
          "name": "stderr"
        },
        {
          "output_type": "execute_result",
          "data": {
            "text/plain": [
              "<fbprophet.forecaster.Prophet at 0x7fb2a2cde160>"
            ]
          },
          "metadata": {
            "tags": []
          },
          "execution_count": 10
        }
      ]
    },
    {
      "cell_type": "code",
      "metadata": {
        "colab": {
          "base_uri": "https://localhost:8080/"
        },
        "id": "Ix3Fjb81opzH",
        "outputId": "207bff70-5df7-4a42-c516-f61eff3241ae"
      },
      "source": [
        "model"
      ],
      "execution_count": null,
      "outputs": [
        {
          "output_type": "execute_result",
          "data": {
            "text/plain": [
              "<fbprophet.forecaster.Prophet at 0x7fb2a2cde160>"
            ]
          },
          "metadata": {
            "tags": []
          },
          "execution_count": 11
        }
      ]
    },
    {
      "cell_type": "code",
      "metadata": {
        "id": "_iNliXn6kx8h"
      },
      "source": [
        "# Criando datas futuras para previsões em um dataframe\n",
        "future = model.make_future_dataframe(periods = 24, freq='M')"
      ],
      "execution_count": null,
      "outputs": []
    },
    {
      "cell_type": "code",
      "metadata": {
        "id": "kSVhwxGPlMhW",
        "colab": {
          "base_uri": "https://localhost:8080/",
          "height": 197
        },
        "outputId": "42f6c2b2-8b19-41ac-e689-c1cb30155aa4"
      },
      "source": [
        "# Visualização das cinco últimas linhas - última da da previsão é Dezembro de 2021\n",
        "future.tail()"
      ],
      "execution_count": null,
      "outputs": [
        {
          "output_type": "execute_result",
          "data": {
            "text/html": [
              "<div>\n",
              "<style scoped>\n",
              "    .dataframe tbody tr th:only-of-type {\n",
              "        vertical-align: middle;\n",
              "    }\n",
              "\n",
              "    .dataframe tbody tr th {\n",
              "        vertical-align: top;\n",
              "    }\n",
              "\n",
              "    .dataframe thead th {\n",
              "        text-align: right;\n",
              "    }\n",
              "</style>\n",
              "<table border=\"1\" class=\"dataframe\">\n",
              "  <thead>\n",
              "    <tr style=\"text-align: right;\">\n",
              "      <th></th>\n",
              "      <th>ds</th>\n",
              "    </tr>\n",
              "  </thead>\n",
              "  <tbody>\n",
              "    <tr>\n",
              "      <th>163</th>\n",
              "      <td>2021-07-31</td>\n",
              "    </tr>\n",
              "    <tr>\n",
              "      <th>164</th>\n",
              "      <td>2021-08-31</td>\n",
              "    </tr>\n",
              "    <tr>\n",
              "      <th>165</th>\n",
              "      <td>2021-09-30</td>\n",
              "    </tr>\n",
              "    <tr>\n",
              "      <th>166</th>\n",
              "      <td>2021-10-31</td>\n",
              "    </tr>\n",
              "    <tr>\n",
              "      <th>167</th>\n",
              "      <td>2021-11-30</td>\n",
              "    </tr>\n",
              "  </tbody>\n",
              "</table>\n",
              "</div>"
            ],
            "text/plain": [
              "            ds\n",
              "163 2021-07-31\n",
              "164 2021-08-31\n",
              "165 2021-09-30\n",
              "166 2021-10-31\n",
              "167 2021-11-30"
            ]
          },
          "metadata": {
            "tags": []
          },
          "execution_count": 13
        }
      ]
    },
    {
      "cell_type": "code",
      "metadata": {
        "id": "UPfdjI6MlWNh"
      },
      "source": [
        "# Previsão dos dados \n",
        "pred = model.predict(future)"
      ],
      "execution_count": null,
      "outputs": []
    },
    {
      "cell_type": "code",
      "metadata": {
        "id": "HtZNiR0jlgPk",
        "colab": {
          "base_uri": "https://localhost:8080/",
          "height": 593
        },
        "outputId": "0c32b76f-7e59-4099-8677-3bcda962f7d7"
      },
      "source": [
        "# Visualização dos dados gerados pelo modelo\n",
        "pred"
      ],
      "execution_count": null,
      "outputs": [
        {
          "output_type": "execute_result",
          "data": {
            "text/html": [
              "<div>\n",
              "<style scoped>\n",
              "    .dataframe tbody tr th:only-of-type {\n",
              "        vertical-align: middle;\n",
              "    }\n",
              "\n",
              "    .dataframe tbody tr th {\n",
              "        vertical-align: top;\n",
              "    }\n",
              "\n",
              "    .dataframe thead th {\n",
              "        text-align: right;\n",
              "    }\n",
              "</style>\n",
              "<table border=\"1\" class=\"dataframe\">\n",
              "  <thead>\n",
              "    <tr style=\"text-align: right;\">\n",
              "      <th></th>\n",
              "      <th>ds</th>\n",
              "      <th>trend</th>\n",
              "      <th>yhat_lower</th>\n",
              "      <th>yhat_upper</th>\n",
              "      <th>trend_lower</th>\n",
              "      <th>trend_upper</th>\n",
              "      <th>additive_terms</th>\n",
              "      <th>additive_terms_lower</th>\n",
              "      <th>additive_terms_upper</th>\n",
              "      <th>yearly</th>\n",
              "      <th>yearly_lower</th>\n",
              "      <th>yearly_upper</th>\n",
              "      <th>multiplicative_terms</th>\n",
              "      <th>multiplicative_terms_lower</th>\n",
              "      <th>multiplicative_terms_upper</th>\n",
              "      <th>yhat</th>\n",
              "    </tr>\n",
              "  </thead>\n",
              "  <tbody>\n",
              "    <tr>\n",
              "      <th>0</th>\n",
              "      <td>2008-01-01</td>\n",
              "      <td>5.736665e+06</td>\n",
              "      <td>4.581748e+06</td>\n",
              "      <td>5.643361e+06</td>\n",
              "      <td>5.736665e+06</td>\n",
              "      <td>5.736665e+06</td>\n",
              "      <td>-6.074087e+05</td>\n",
              "      <td>-6.074087e+05</td>\n",
              "      <td>-6.074087e+05</td>\n",
              "      <td>-6.074087e+05</td>\n",
              "      <td>-6.074087e+05</td>\n",
              "      <td>-6.074087e+05</td>\n",
              "      <td>0.0</td>\n",
              "      <td>0.0</td>\n",
              "      <td>0.0</td>\n",
              "      <td>5.129256e+06</td>\n",
              "    </tr>\n",
              "    <tr>\n",
              "      <th>1</th>\n",
              "      <td>2008-02-01</td>\n",
              "      <td>5.827864e+06</td>\n",
              "      <td>4.193452e+06</td>\n",
              "      <td>5.201987e+06</td>\n",
              "      <td>5.827864e+06</td>\n",
              "      <td>5.827864e+06</td>\n",
              "      <td>-1.093975e+06</td>\n",
              "      <td>-1.093975e+06</td>\n",
              "      <td>-1.093975e+06</td>\n",
              "      <td>-1.093975e+06</td>\n",
              "      <td>-1.093975e+06</td>\n",
              "      <td>-1.093975e+06</td>\n",
              "      <td>0.0</td>\n",
              "      <td>0.0</td>\n",
              "      <td>0.0</td>\n",
              "      <td>4.733888e+06</td>\n",
              "    </tr>\n",
              "    <tr>\n",
              "      <th>2</th>\n",
              "      <td>2008-03-01</td>\n",
              "      <td>5.913179e+06</td>\n",
              "      <td>4.951390e+06</td>\n",
              "      <td>6.021288e+06</td>\n",
              "      <td>5.913179e+06</td>\n",
              "      <td>5.913179e+06</td>\n",
              "      <td>-4.073059e+05</td>\n",
              "      <td>-4.073059e+05</td>\n",
              "      <td>-4.073059e+05</td>\n",
              "      <td>-4.073059e+05</td>\n",
              "      <td>-4.073059e+05</td>\n",
              "      <td>-4.073059e+05</td>\n",
              "      <td>0.0</td>\n",
              "      <td>0.0</td>\n",
              "      <td>0.0</td>\n",
              "      <td>5.505873e+06</td>\n",
              "    </tr>\n",
              "    <tr>\n",
              "      <th>3</th>\n",
              "      <td>2008-04-01</td>\n",
              "      <td>6.004378e+06</td>\n",
              "      <td>4.916202e+06</td>\n",
              "      <td>5.958420e+06</td>\n",
              "      <td>6.004378e+06</td>\n",
              "      <td>6.004378e+06</td>\n",
              "      <td>-5.745172e+05</td>\n",
              "      <td>-5.745172e+05</td>\n",
              "      <td>-5.745172e+05</td>\n",
              "      <td>-5.745172e+05</td>\n",
              "      <td>-5.745172e+05</td>\n",
              "      <td>-5.745172e+05</td>\n",
              "      <td>0.0</td>\n",
              "      <td>0.0</td>\n",
              "      <td>0.0</td>\n",
              "      <td>5.429860e+06</td>\n",
              "    </tr>\n",
              "    <tr>\n",
              "      <th>4</th>\n",
              "      <td>2008-05-01</td>\n",
              "      <td>6.092634e+06</td>\n",
              "      <td>6.343174e+06</td>\n",
              "      <td>7.415995e+06</td>\n",
              "      <td>6.092634e+06</td>\n",
              "      <td>6.092634e+06</td>\n",
              "      <td>7.826330e+05</td>\n",
              "      <td>7.826330e+05</td>\n",
              "      <td>7.826330e+05</td>\n",
              "      <td>7.826330e+05</td>\n",
              "      <td>7.826330e+05</td>\n",
              "      <td>7.826330e+05</td>\n",
              "      <td>0.0</td>\n",
              "      <td>0.0</td>\n",
              "      <td>0.0</td>\n",
              "      <td>6.875267e+06</td>\n",
              "    </tr>\n",
              "    <tr>\n",
              "      <th>...</th>\n",
              "      <td>...</td>\n",
              "      <td>...</td>\n",
              "      <td>...</td>\n",
              "      <td>...</td>\n",
              "      <td>...</td>\n",
              "      <td>...</td>\n",
              "      <td>...</td>\n",
              "      <td>...</td>\n",
              "      <td>...</td>\n",
              "      <td>...</td>\n",
              "      <td>...</td>\n",
              "      <td>...</td>\n",
              "      <td>...</td>\n",
              "      <td>...</td>\n",
              "      <td>...</td>\n",
              "      <td>...</td>\n",
              "    </tr>\n",
              "    <tr>\n",
              "      <th>163</th>\n",
              "      <td>2021-07-31</td>\n",
              "      <td>2.092745e+07</td>\n",
              "      <td>2.215083e+07</td>\n",
              "      <td>2.315998e+07</td>\n",
              "      <td>2.082498e+07</td>\n",
              "      <td>2.102215e+07</td>\n",
              "      <td>1.737585e+06</td>\n",
              "      <td>1.737585e+06</td>\n",
              "      <td>1.737585e+06</td>\n",
              "      <td>1.737585e+06</td>\n",
              "      <td>1.737585e+06</td>\n",
              "      <td>1.737585e+06</td>\n",
              "      <td>0.0</td>\n",
              "      <td>0.0</td>\n",
              "      <td>0.0</td>\n",
              "      <td>2.266503e+07</td>\n",
              "    </tr>\n",
              "    <tr>\n",
              "      <th>164</th>\n",
              "      <td>2021-08-31</td>\n",
              "      <td>2.104994e+07</td>\n",
              "      <td>2.024876e+07</td>\n",
              "      <td>2.126446e+07</td>\n",
              "      <td>2.093842e+07</td>\n",
              "      <td>2.115147e+07</td>\n",
              "      <td>-2.816115e+05</td>\n",
              "      <td>-2.816115e+05</td>\n",
              "      <td>-2.816115e+05</td>\n",
              "      <td>-2.816115e+05</td>\n",
              "      <td>-2.816115e+05</td>\n",
              "      <td>-2.816115e+05</td>\n",
              "      <td>0.0</td>\n",
              "      <td>0.0</td>\n",
              "      <td>0.0</td>\n",
              "      <td>2.076833e+07</td>\n",
              "    </tr>\n",
              "    <tr>\n",
              "      <th>165</th>\n",
              "      <td>2021-09-30</td>\n",
              "      <td>2.116849e+07</td>\n",
              "      <td>2.041529e+07</td>\n",
              "      <td>2.148007e+07</td>\n",
              "      <td>2.104612e+07</td>\n",
              "      <td>2.127504e+07</td>\n",
              "      <td>-2.021867e+05</td>\n",
              "      <td>-2.021867e+05</td>\n",
              "      <td>-2.021867e+05</td>\n",
              "      <td>-2.021867e+05</td>\n",
              "      <td>-2.021867e+05</td>\n",
              "      <td>-2.021867e+05</td>\n",
              "      <td>0.0</td>\n",
              "      <td>0.0</td>\n",
              "      <td>0.0</td>\n",
              "      <td>2.096630e+07</td>\n",
              "    </tr>\n",
              "    <tr>\n",
              "      <th>166</th>\n",
              "      <td>2021-10-31</td>\n",
              "      <td>2.129098e+07</td>\n",
              "      <td>2.015852e+07</td>\n",
              "      <td>2.119240e+07</td>\n",
              "      <td>2.115822e+07</td>\n",
              "      <td>2.140397e+07</td>\n",
              "      <td>-6.288592e+05</td>\n",
              "      <td>-6.288592e+05</td>\n",
              "      <td>-6.288592e+05</td>\n",
              "      <td>-6.288592e+05</td>\n",
              "      <td>-6.288592e+05</td>\n",
              "      <td>-6.288592e+05</td>\n",
              "      <td>0.0</td>\n",
              "      <td>0.0</td>\n",
              "      <td>0.0</td>\n",
              "      <td>2.066212e+07</td>\n",
              "    </tr>\n",
              "    <tr>\n",
              "      <th>167</th>\n",
              "      <td>2021-11-30</td>\n",
              "      <td>2.140953e+07</td>\n",
              "      <td>2.013044e+07</td>\n",
              "      <td>2.123032e+07</td>\n",
              "      <td>2.126662e+07</td>\n",
              "      <td>2.153128e+07</td>\n",
              "      <td>-7.165442e+05</td>\n",
              "      <td>-7.165442e+05</td>\n",
              "      <td>-7.165442e+05</td>\n",
              "      <td>-7.165442e+05</td>\n",
              "      <td>-7.165442e+05</td>\n",
              "      <td>-7.165442e+05</td>\n",
              "      <td>0.0</td>\n",
              "      <td>0.0</td>\n",
              "      <td>0.0</td>\n",
              "      <td>2.069298e+07</td>\n",
              "    </tr>\n",
              "  </tbody>\n",
              "</table>\n",
              "<p>168 rows × 16 columns</p>\n",
              "</div>"
            ],
            "text/plain": [
              "            ds         trend  ...  multiplicative_terms_upper          yhat\n",
              "0   2008-01-01  5.736665e+06  ...                         0.0  5.129256e+06\n",
              "1   2008-02-01  5.827864e+06  ...                         0.0  4.733888e+06\n",
              "2   2008-03-01  5.913179e+06  ...                         0.0  5.505873e+06\n",
              "3   2008-04-01  6.004378e+06  ...                         0.0  5.429860e+06\n",
              "4   2008-05-01  6.092634e+06  ...                         0.0  6.875267e+06\n",
              "..         ...           ...  ...                         ...           ...\n",
              "163 2021-07-31  2.092745e+07  ...                         0.0  2.266503e+07\n",
              "164 2021-08-31  2.104994e+07  ...                         0.0  2.076833e+07\n",
              "165 2021-09-30  2.116849e+07  ...                         0.0  2.096630e+07\n",
              "166 2021-10-31  2.129098e+07  ...                         0.0  2.066212e+07\n",
              "167 2021-11-30  2.140953e+07  ...                         0.0  2.069298e+07\n",
              "\n",
              "[168 rows x 16 columns]"
            ]
          },
          "metadata": {
            "tags": []
          },
          "execution_count": 15
        }
      ]
    },
    {
      "cell_type": "code",
      "metadata": {
        "id": "iLBA3PuelkPs",
        "colab": {
          "base_uri": "https://localhost:8080/",
          "height": 197
        },
        "outputId": "fda84f8b-6fb2-4f34-fe84-95a75658d9c9"
      },
      "source": [
        "# Visulaização das cinco primeiras linhas dos dados ds (data), yhat (previsão do modelo), yhat_lower e yhta_uooer (valores previstos para os intervalos de incerteza)\n",
        "pred[[\"ds\",\"yhat\",\"yhat_lower\",\"yhat_upper\"]].head()"
      ],
      "execution_count": null,
      "outputs": [
        {
          "output_type": "execute_result",
          "data": {
            "text/html": [
              "<div>\n",
              "<style scoped>\n",
              "    .dataframe tbody tr th:only-of-type {\n",
              "        vertical-align: middle;\n",
              "    }\n",
              "\n",
              "    .dataframe tbody tr th {\n",
              "        vertical-align: top;\n",
              "    }\n",
              "\n",
              "    .dataframe thead th {\n",
              "        text-align: right;\n",
              "    }\n",
              "</style>\n",
              "<table border=\"1\" class=\"dataframe\">\n",
              "  <thead>\n",
              "    <tr style=\"text-align: right;\">\n",
              "      <th></th>\n",
              "      <th>ds</th>\n",
              "      <th>yhat</th>\n",
              "      <th>yhat_lower</th>\n",
              "      <th>yhat_upper</th>\n",
              "    </tr>\n",
              "  </thead>\n",
              "  <tbody>\n",
              "    <tr>\n",
              "      <th>0</th>\n",
              "      <td>2008-01-01</td>\n",
              "      <td>5.129256e+06</td>\n",
              "      <td>4.581748e+06</td>\n",
              "      <td>5.643361e+06</td>\n",
              "    </tr>\n",
              "    <tr>\n",
              "      <th>1</th>\n",
              "      <td>2008-02-01</td>\n",
              "      <td>4.733888e+06</td>\n",
              "      <td>4.193452e+06</td>\n",
              "      <td>5.201987e+06</td>\n",
              "    </tr>\n",
              "    <tr>\n",
              "      <th>2</th>\n",
              "      <td>2008-03-01</td>\n",
              "      <td>5.505873e+06</td>\n",
              "      <td>4.951390e+06</td>\n",
              "      <td>6.021288e+06</td>\n",
              "    </tr>\n",
              "    <tr>\n",
              "      <th>3</th>\n",
              "      <td>2008-04-01</td>\n",
              "      <td>5.429860e+06</td>\n",
              "      <td>4.916202e+06</td>\n",
              "      <td>5.958420e+06</td>\n",
              "    </tr>\n",
              "    <tr>\n",
              "      <th>4</th>\n",
              "      <td>2008-05-01</td>\n",
              "      <td>6.875267e+06</td>\n",
              "      <td>6.343174e+06</td>\n",
              "      <td>7.415995e+06</td>\n",
              "    </tr>\n",
              "  </tbody>\n",
              "</table>\n",
              "</div>"
            ],
            "text/plain": [
              "          ds          yhat    yhat_lower    yhat_upper\n",
              "0 2008-01-01  5.129256e+06  4.581748e+06  5.643361e+06\n",
              "1 2008-02-01  4.733888e+06  4.193452e+06  5.201987e+06\n",
              "2 2008-03-01  5.505873e+06  4.951390e+06  6.021288e+06\n",
              "3 2008-04-01  5.429860e+06  4.916202e+06  5.958420e+06\n",
              "4 2008-05-01  6.875267e+06  6.343174e+06  7.415995e+06"
            ]
          },
          "metadata": {
            "tags": []
          },
          "execution_count": 16
        }
      ]
    },
    {
      "cell_type": "code",
      "metadata": {
        "colab": {
          "base_uri": "https://localhost:8080/",
          "height": 377
        },
        "id": "wV0UsD37WhoL",
        "outputId": "af4f03b7-58ff-40ea-ad25-a103da98ff50"
      },
      "source": [
        "# Visulaização das cinco últimas linhas dos dados ds (data), yhat (previsão do modelo), yhat_lower e yhta_uooer (valores previstos para os intervalos de incerteza)\n",
        "pred[[\"ds\",\"yhat\",\"yhat_lower\",\"yhat_upper\"]].tail(11)"
      ],
      "execution_count": null,
      "outputs": [
        {
          "output_type": "execute_result",
          "data": {
            "text/html": [
              "<div>\n",
              "<style scoped>\n",
              "    .dataframe tbody tr th:only-of-type {\n",
              "        vertical-align: middle;\n",
              "    }\n",
              "\n",
              "    .dataframe tbody tr th {\n",
              "        vertical-align: top;\n",
              "    }\n",
              "\n",
              "    .dataframe thead th {\n",
              "        text-align: right;\n",
              "    }\n",
              "</style>\n",
              "<table border=\"1\" class=\"dataframe\">\n",
              "  <thead>\n",
              "    <tr style=\"text-align: right;\">\n",
              "      <th></th>\n",
              "      <th>ds</th>\n",
              "      <th>yhat</th>\n",
              "      <th>yhat_lower</th>\n",
              "      <th>yhat_upper</th>\n",
              "    </tr>\n",
              "  </thead>\n",
              "  <tbody>\n",
              "    <tr>\n",
              "      <th>157</th>\n",
              "      <td>2021-01-31</td>\n",
              "      <td>1.927607e+07</td>\n",
              "      <td>1.873274e+07</td>\n",
              "      <td>1.978788e+07</td>\n",
              "    </tr>\n",
              "    <tr>\n",
              "      <th>158</th>\n",
              "      <td>2021-02-28</td>\n",
              "      <td>1.949407e+07</td>\n",
              "      <td>1.896660e+07</td>\n",
              "      <td>2.001006e+07</td>\n",
              "    </tr>\n",
              "    <tr>\n",
              "      <th>159</th>\n",
              "      <td>2021-03-31</td>\n",
              "      <td>2.058748e+07</td>\n",
              "      <td>2.006316e+07</td>\n",
              "      <td>2.107247e+07</td>\n",
              "    </tr>\n",
              "    <tr>\n",
              "      <th>160</th>\n",
              "      <td>2021-04-30</td>\n",
              "      <td>2.065987e+07</td>\n",
              "      <td>2.012602e+07</td>\n",
              "      <td>2.115974e+07</td>\n",
              "    </tr>\n",
              "    <tr>\n",
              "      <th>161</th>\n",
              "      <td>2021-05-31</td>\n",
              "      <td>2.048230e+07</td>\n",
              "      <td>1.995728e+07</td>\n",
              "      <td>2.097055e+07</td>\n",
              "    </tr>\n",
              "    <tr>\n",
              "      <th>162</th>\n",
              "      <td>2021-06-30</td>\n",
              "      <td>2.257963e+07</td>\n",
              "      <td>2.203889e+07</td>\n",
              "      <td>2.309601e+07</td>\n",
              "    </tr>\n",
              "    <tr>\n",
              "      <th>163</th>\n",
              "      <td>2021-07-31</td>\n",
              "      <td>2.266503e+07</td>\n",
              "      <td>2.215083e+07</td>\n",
              "      <td>2.315998e+07</td>\n",
              "    </tr>\n",
              "    <tr>\n",
              "      <th>164</th>\n",
              "      <td>2021-08-31</td>\n",
              "      <td>2.076833e+07</td>\n",
              "      <td>2.024876e+07</td>\n",
              "      <td>2.126446e+07</td>\n",
              "    </tr>\n",
              "    <tr>\n",
              "      <th>165</th>\n",
              "      <td>2021-09-30</td>\n",
              "      <td>2.096630e+07</td>\n",
              "      <td>2.041529e+07</td>\n",
              "      <td>2.148007e+07</td>\n",
              "    </tr>\n",
              "    <tr>\n",
              "      <th>166</th>\n",
              "      <td>2021-10-31</td>\n",
              "      <td>2.066212e+07</td>\n",
              "      <td>2.015852e+07</td>\n",
              "      <td>2.119240e+07</td>\n",
              "    </tr>\n",
              "    <tr>\n",
              "      <th>167</th>\n",
              "      <td>2021-11-30</td>\n",
              "      <td>2.069298e+07</td>\n",
              "      <td>2.013044e+07</td>\n",
              "      <td>2.123032e+07</td>\n",
              "    </tr>\n",
              "  </tbody>\n",
              "</table>\n",
              "</div>"
            ],
            "text/plain": [
              "            ds          yhat    yhat_lower    yhat_upper\n",
              "157 2021-01-31  1.927607e+07  1.873274e+07  1.978788e+07\n",
              "158 2021-02-28  1.949407e+07  1.896660e+07  2.001006e+07\n",
              "159 2021-03-31  2.058748e+07  2.006316e+07  2.107247e+07\n",
              "160 2021-04-30  2.065987e+07  2.012602e+07  2.115974e+07\n",
              "161 2021-05-31  2.048230e+07  1.995728e+07  2.097055e+07\n",
              "162 2021-06-30  2.257963e+07  2.203889e+07  2.309601e+07\n",
              "163 2021-07-31  2.266503e+07  2.215083e+07  2.315998e+07\n",
              "164 2021-08-31  2.076833e+07  2.024876e+07  2.126446e+07\n",
              "165 2021-09-30  2.096630e+07  2.041529e+07  2.148007e+07\n",
              "166 2021-10-31  2.066212e+07  2.015852e+07  2.119240e+07\n",
              "167 2021-11-30  2.069298e+07  2.013044e+07  2.123032e+07"
            ]
          },
          "metadata": {
            "tags": []
          },
          "execution_count": 17
        }
      ]
    },
    {
      "cell_type": "markdown",
      "metadata": {
        "id": "UmEJzmhPWn9-"
      },
      "source": [
        "## **Análise gráfica do modelo de previsão**"
      ]
    },
    {
      "cell_type": "code",
      "metadata": {
        "colab": {
          "base_uri": "https://localhost:8080/",
          "height": 441
        },
        "id": "4wWprQoTyHN-",
        "outputId": "08fda478-19dc-4b73-fade-af669cdd911e"
      },
      "source": [
        "#Visualização gráfica dos dados - Período de 2008 a 2021\n",
        "ax = model.plot(pred);"
      ],
      "execution_count": null,
      "outputs": [
        {
          "output_type": "display_data",
          "data": {
            "image/png": "[encoded data removed]",
            "text/plain": [
              "<Figure size 720x432 with 1 Axes>"
            ]
          },
          "metadata": {
            "tags": []
          }
        }
      ]
    },
    {
      "cell_type": "code",
      "metadata": {
        "id": "5DHGI9N7m_K0",
        "colab": {
          "base_uri": "https://localhost:8080/",
          "height": 441
        },
        "outputId": "eaaf4c81-c9f8-47c1-dc2a-e80702d34d68"
      },
      "source": [
        "#visualizacao de cada componente do modelo previsto. Trend é a tendências e yearly a sazonalidade\n",
        "model.plot_components(pred);"
      ],
      "execution_count": null,
      "outputs": [
        {
          "output_type": "display_data",
          "data": {
            "image/png": "[encoded data removed]",
            "text/plain": [
              "<Figure size 648x432 with 2 Axes>"
            ]
          },
          "metadata": {
            "tags": []
          }
        }
      ]
    },
    {
      "cell_type": "markdown",
      "metadata": {
        "id": "kfbbdksE0Bbr"
      },
      "source": [
        "Conforme observado nos gráficos acima, há uma tendência de crescimento dos custos relativos à quedas que poderão ocorrer com os idosos, podendo representar custos de quase 230 milhões de reais no ano de 2021, com média de 20,8 milhões por mês."
      ]
    }
  ]
}