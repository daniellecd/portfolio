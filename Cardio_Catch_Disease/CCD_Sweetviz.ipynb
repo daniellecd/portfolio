{
  "nbformat": 4,
  "nbformat_minor": 0,
  "metadata": {
    "colab": {
      "name": "CCD_Sweetviz.ipynb",
      "provenance": [],
      "collapsed_sections": [],
      "authorship_tag": "ABX9TyPLVlskoyj85qa43HCjPkVS",
      "include_colab_link": true
    },
    "kernelspec": {
      "name": "python3",
      "display_name": "Python 3"
    }
  },
  "cells": [
    {
      "cell_type": "markdown",
      "metadata": {
        "id": "view-in-github",
        "colab_type": "text"
      },
      "source": [
        "<a href=\"https://colab.research.google.com/github/daniellecd/portfolio/blob/main/Cardio_Catch_Disease/CCD_Sweetviz.ipynb\" target=\"_parent\"><img src=\"https://colab.research.google.com/assets/colab-badge.svg\" alt=\"Open In Colab\"/></a>"
      ]
    },
    {
      "cell_type": "code",
      "metadata": {
        "id": "CsgorQsUVvvf"
      },
      "source": [
        "!pip install sweetviz"
      ],
      "execution_count": null,
      "outputs": []
    },
    {
      "cell_type": "code",
      "metadata": {
        "id": "OXm7hZRbTSua"
      },
      "source": [
        "import pandas as pd\n",
        "import numpy as np\n",
        "import sweetviz as sv"
      ],
      "execution_count": null,
      "outputs": []
    },
    {
      "cell_type": "code",
      "metadata": {
        "id": "3BUWpdE3TZSL"
      },
      "source": [
        "df = pd.read_csv('https://raw.githubusercontent.com/daniellecd/portfolio/master/Cardio_Catch_Diseases/data/cardio_train.csv', sep=';')"
      ],
      "execution_count": null,
      "outputs": []
    },
    {
      "cell_type": "code",
      "metadata": {
        "id": "_ubfDf73rQ_N"
      },
      "source": [
        "sweet_report = sv.analyze(df)\n",
        "sweet_report.show_html('CCD_sweet_report.html')"
      ],
      "execution_count": null,
      "outputs": []
    }
  ]
}